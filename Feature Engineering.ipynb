{
 "cells": [
  {
   "cell_type": "markdown",
   "id": "10fcadfc",
   "metadata": {},
   "source": [
    "# Feature Engineering\n",
    "\n",
    "Feature engineering is useful for machine learning algorithms, as it structures the data in a way the ML algorithm can better process. This includes merging highly correlated features, removing redundant data and one-hot encoding categorical variables, among others.\n",
    "\n",
    "The full titanic dataset was obtained from <a src=\"https://www.kaggle.com/datasets/vinicius150987/titanic3\">here</a>. In order to fit the structure of Kaggle's version of the data, the dataset was preprocessed by the file <i>generate_inital_data.py</i>. It renames columns, drops columns not found in the Kaggle version and shuffles the dataset.\n",
    "\n",
    "The notebook also processes Kaggle's version of the titanic dataset, which can be found <a src=\"https://www.kaggle.com/competitions/titanic/data\">here</a>."
   ]
  },
  {
   "cell_type": "code",
   "execution_count": 318,
   "id": "8c482426",
   "metadata": {},
   "outputs": [],
   "source": [
    "import os\n",
    "import warnings\n",
    "import numpy as np\n",
    "import pandas as pd\n",
    "import seaborn as sns\n",
    "import matplotlib.pyplot as plt\n",
    "from sklearn.model_selection import train_test_split\n",
    "\n",
    "warnings.filterwarnings(\"ignore\")"
   ]
  },
  {
   "cell_type": "markdown",
   "id": "190d1d0c",
   "metadata": {},
   "source": [
    "###### In order to be able to understand what are the best methods to process the data with, the data should be explored and analysed.\n",
    "First and foremost, we should take note of what the columns are, how many are there, what is their distribution and what is their type."
   ]
  },
  {
   "cell_type": "code",
   "execution_count": 319,
   "id": "e9b35be5",
   "metadata": {
    "scrolled": false
   },
   "outputs": [
    {
     "ename": "FileNotFoundError",
     "evalue": "[Errno 2] No such file or directory: '..\\\\..\\\\data\\\\titanic.csv'",
     "output_type": "error",
     "traceback": [
      "\u001b[1;31m---------------------------------------------------------------------\u001b[0m",
      "\u001b[1;31mFileNotFoundError\u001b[0m                   Traceback (most recent call last)",
      "\u001b[1;32m<ipython-input-319-ed736cd978d4>\u001b[0m in \u001b[0;36m<module>\u001b[1;34m\u001b[0m\n\u001b[1;32m----> 1\u001b[1;33m \u001b[0mdf\u001b[0m \u001b[1;33m=\u001b[0m \u001b[0mpd\u001b[0m\u001b[1;33m.\u001b[0m\u001b[0mread_csv\u001b[0m\u001b[1;33m(\u001b[0m\u001b[0mos\u001b[0m\u001b[1;33m.\u001b[0m\u001b[0mpath\u001b[0m\u001b[1;33m.\u001b[0m\u001b[0mjoin\u001b[0m\u001b[1;33m(\u001b[0m\u001b[1;34m'..'\u001b[0m\u001b[1;33m,\u001b[0m\u001b[1;34m'..'\u001b[0m\u001b[1;33m,\u001b[0m\u001b[1;34m'data'\u001b[0m\u001b[1;33m,\u001b[0m\u001b[1;34m'titanic.csv'\u001b[0m\u001b[1;33m)\u001b[0m\u001b[1;33m)\u001b[0m\u001b[1;33m\u001b[0m\u001b[1;33m\u001b[0m\u001b[0m\n\u001b[0m\u001b[0;32m      2\u001b[0m \u001b[1;31m# df = pd.read_csv(os.path.join('..','..','data','kaggle_train.csv'))\u001b[0m\u001b[1;33m\u001b[0m\u001b[1;33m\u001b[0m\u001b[1;33m\u001b[0m\u001b[0m\n\u001b[0;32m      3\u001b[0m \u001b[1;31m# df = pd.read_csv(os.path.join('..','..','data','kaggle_test.csv'))\u001b[0m\u001b[1;33m\u001b[0m\u001b[1;33m\u001b[0m\u001b[1;33m\u001b[0m\u001b[0m\n\u001b[0;32m      4\u001b[0m \u001b[1;33m\u001b[0m\u001b[0m\n\u001b[0;32m      5\u001b[0m \u001b[0mdf\u001b[0m\u001b[1;33m.\u001b[0m\u001b[0minfo\u001b[0m\u001b[1;33m(\u001b[0m\u001b[1;33m)\u001b[0m\u001b[1;33m\u001b[0m\u001b[1;33m\u001b[0m\u001b[0m\n",
      "\u001b[1;32m~\\anaconda3\\envs\\gapt-venv\\lib\\site-packages\\pandas\\util\\_decorators.py\u001b[0m in \u001b[0;36mwrapper\u001b[1;34m(*args, **kwargs)\u001b[0m\n\u001b[0;32m    309\u001b[0m                     \u001b[0mstacklevel\u001b[0m\u001b[1;33m=\u001b[0m\u001b[0mstacklevel\u001b[0m\u001b[1;33m,\u001b[0m\u001b[1;33m\u001b[0m\u001b[1;33m\u001b[0m\u001b[0m\n\u001b[0;32m    310\u001b[0m                 )\n\u001b[1;32m--> 311\u001b[1;33m             \u001b[1;32mreturn\u001b[0m \u001b[0mfunc\u001b[0m\u001b[1;33m(\u001b[0m\u001b[1;33m*\u001b[0m\u001b[0margs\u001b[0m\u001b[1;33m,\u001b[0m \u001b[1;33m**\u001b[0m\u001b[0mkwargs\u001b[0m\u001b[1;33m)\u001b[0m\u001b[1;33m\u001b[0m\u001b[1;33m\u001b[0m\u001b[0m\n\u001b[0m\u001b[0;32m    312\u001b[0m \u001b[1;33m\u001b[0m\u001b[0m\n\u001b[0;32m    313\u001b[0m         \u001b[1;32mreturn\u001b[0m \u001b[0mwrapper\u001b[0m\u001b[1;33m\u001b[0m\u001b[1;33m\u001b[0m\u001b[0m\n",
      "\u001b[1;32m~\\anaconda3\\envs\\gapt-venv\\lib\\site-packages\\pandas\\io\\parsers\\readers.py\u001b[0m in \u001b[0;36mread_csv\u001b[1;34m(filepath_or_buffer, sep, delimiter, header, names, index_col, usecols, squeeze, prefix, mangle_dupe_cols, dtype, engine, converters, true_values, false_values, skipinitialspace, skiprows, skipfooter, nrows, na_values, keep_default_na, na_filter, verbose, skip_blank_lines, parse_dates, infer_datetime_format, keep_date_col, date_parser, dayfirst, cache_dates, iterator, chunksize, compression, thousands, decimal, lineterminator, quotechar, quoting, doublequote, escapechar, comment, encoding, encoding_errors, dialect, error_bad_lines, warn_bad_lines, on_bad_lines, delim_whitespace, low_memory, memory_map, float_precision, storage_options)\u001b[0m\n\u001b[0;32m    584\u001b[0m     \u001b[0mkwds\u001b[0m\u001b[1;33m.\u001b[0m\u001b[0mupdate\u001b[0m\u001b[1;33m(\u001b[0m\u001b[0mkwds_defaults\u001b[0m\u001b[1;33m)\u001b[0m\u001b[1;33m\u001b[0m\u001b[1;33m\u001b[0m\u001b[0m\n\u001b[0;32m    585\u001b[0m \u001b[1;33m\u001b[0m\u001b[0m\n\u001b[1;32m--> 586\u001b[1;33m     \u001b[1;32mreturn\u001b[0m \u001b[0m_read\u001b[0m\u001b[1;33m(\u001b[0m\u001b[0mfilepath_or_buffer\u001b[0m\u001b[1;33m,\u001b[0m \u001b[0mkwds\u001b[0m\u001b[1;33m)\u001b[0m\u001b[1;33m\u001b[0m\u001b[1;33m\u001b[0m\u001b[0m\n\u001b[0m\u001b[0;32m    587\u001b[0m \u001b[1;33m\u001b[0m\u001b[0m\n\u001b[0;32m    588\u001b[0m \u001b[1;33m\u001b[0m\u001b[0m\n",
      "\u001b[1;32m~\\anaconda3\\envs\\gapt-venv\\lib\\site-packages\\pandas\\io\\parsers\\readers.py\u001b[0m in \u001b[0;36m_read\u001b[1;34m(filepath_or_buffer, kwds)\u001b[0m\n\u001b[0;32m    480\u001b[0m \u001b[1;33m\u001b[0m\u001b[0m\n\u001b[0;32m    481\u001b[0m     \u001b[1;31m# Create the parser.\u001b[0m\u001b[1;33m\u001b[0m\u001b[1;33m\u001b[0m\u001b[1;33m\u001b[0m\u001b[0m\n\u001b[1;32m--> 482\u001b[1;33m     \u001b[0mparser\u001b[0m \u001b[1;33m=\u001b[0m \u001b[0mTextFileReader\u001b[0m\u001b[1;33m(\u001b[0m\u001b[0mfilepath_or_buffer\u001b[0m\u001b[1;33m,\u001b[0m \u001b[1;33m**\u001b[0m\u001b[0mkwds\u001b[0m\u001b[1;33m)\u001b[0m\u001b[1;33m\u001b[0m\u001b[1;33m\u001b[0m\u001b[0m\n\u001b[0m\u001b[0;32m    483\u001b[0m \u001b[1;33m\u001b[0m\u001b[0m\n\u001b[0;32m    484\u001b[0m     \u001b[1;32mif\u001b[0m \u001b[0mchunksize\u001b[0m \u001b[1;32mor\u001b[0m \u001b[0miterator\u001b[0m\u001b[1;33m:\u001b[0m\u001b[1;33m\u001b[0m\u001b[1;33m\u001b[0m\u001b[0m\n",
      "\u001b[1;32m~\\anaconda3\\envs\\gapt-venv\\lib\\site-packages\\pandas\\io\\parsers\\readers.py\u001b[0m in \u001b[0;36m__init__\u001b[1;34m(self, f, engine, **kwds)\u001b[0m\n\u001b[0;32m    809\u001b[0m             \u001b[0mself\u001b[0m\u001b[1;33m.\u001b[0m\u001b[0moptions\u001b[0m\u001b[1;33m[\u001b[0m\u001b[1;34m\"has_index_names\"\u001b[0m\u001b[1;33m]\u001b[0m \u001b[1;33m=\u001b[0m \u001b[0mkwds\u001b[0m\u001b[1;33m[\u001b[0m\u001b[1;34m\"has_index_names\"\u001b[0m\u001b[1;33m]\u001b[0m\u001b[1;33m\u001b[0m\u001b[1;33m\u001b[0m\u001b[0m\n\u001b[0;32m    810\u001b[0m \u001b[1;33m\u001b[0m\u001b[0m\n\u001b[1;32m--> 811\u001b[1;33m         \u001b[0mself\u001b[0m\u001b[1;33m.\u001b[0m\u001b[0m_engine\u001b[0m \u001b[1;33m=\u001b[0m \u001b[0mself\u001b[0m\u001b[1;33m.\u001b[0m\u001b[0m_make_engine\u001b[0m\u001b[1;33m(\u001b[0m\u001b[0mself\u001b[0m\u001b[1;33m.\u001b[0m\u001b[0mengine\u001b[0m\u001b[1;33m)\u001b[0m\u001b[1;33m\u001b[0m\u001b[1;33m\u001b[0m\u001b[0m\n\u001b[0m\u001b[0;32m    812\u001b[0m \u001b[1;33m\u001b[0m\u001b[0m\n\u001b[0;32m    813\u001b[0m     \u001b[1;32mdef\u001b[0m \u001b[0mclose\u001b[0m\u001b[1;33m(\u001b[0m\u001b[0mself\u001b[0m\u001b[1;33m)\u001b[0m\u001b[1;33m:\u001b[0m\u001b[1;33m\u001b[0m\u001b[1;33m\u001b[0m\u001b[0m\n",
      "\u001b[1;32m~\\anaconda3\\envs\\gapt-venv\\lib\\site-packages\\pandas\\io\\parsers\\readers.py\u001b[0m in \u001b[0;36m_make_engine\u001b[1;34m(self, engine)\u001b[0m\n\u001b[0;32m   1038\u001b[0m             )\n\u001b[0;32m   1039\u001b[0m         \u001b[1;31m# error: Too many arguments for \"ParserBase\"\u001b[0m\u001b[1;33m\u001b[0m\u001b[1;33m\u001b[0m\u001b[1;33m\u001b[0m\u001b[0m\n\u001b[1;32m-> 1040\u001b[1;33m         \u001b[1;32mreturn\u001b[0m \u001b[0mmapping\u001b[0m\u001b[1;33m[\u001b[0m\u001b[0mengine\u001b[0m\u001b[1;33m]\u001b[0m\u001b[1;33m(\u001b[0m\u001b[0mself\u001b[0m\u001b[1;33m.\u001b[0m\u001b[0mf\u001b[0m\u001b[1;33m,\u001b[0m \u001b[1;33m**\u001b[0m\u001b[0mself\u001b[0m\u001b[1;33m.\u001b[0m\u001b[0moptions\u001b[0m\u001b[1;33m)\u001b[0m  \u001b[1;31m# type: ignore[call-arg]\u001b[0m\u001b[1;33m\u001b[0m\u001b[1;33m\u001b[0m\u001b[0m\n\u001b[0m\u001b[0;32m   1041\u001b[0m \u001b[1;33m\u001b[0m\u001b[0m\n\u001b[0;32m   1042\u001b[0m     \u001b[1;32mdef\u001b[0m \u001b[0m_failover_to_python\u001b[0m\u001b[1;33m(\u001b[0m\u001b[0mself\u001b[0m\u001b[1;33m)\u001b[0m\u001b[1;33m:\u001b[0m\u001b[1;33m\u001b[0m\u001b[1;33m\u001b[0m\u001b[0m\n",
      "\u001b[1;32m~\\anaconda3\\envs\\gapt-venv\\lib\\site-packages\\pandas\\io\\parsers\\c_parser_wrapper.py\u001b[0m in \u001b[0;36m__init__\u001b[1;34m(self, src, **kwds)\u001b[0m\n\u001b[0;32m     49\u001b[0m \u001b[1;33m\u001b[0m\u001b[0m\n\u001b[0;32m     50\u001b[0m         \u001b[1;31m# open handles\u001b[0m\u001b[1;33m\u001b[0m\u001b[1;33m\u001b[0m\u001b[1;33m\u001b[0m\u001b[0m\n\u001b[1;32m---> 51\u001b[1;33m         \u001b[0mself\u001b[0m\u001b[1;33m.\u001b[0m\u001b[0m_open_handles\u001b[0m\u001b[1;33m(\u001b[0m\u001b[0msrc\u001b[0m\u001b[1;33m,\u001b[0m \u001b[0mkwds\u001b[0m\u001b[1;33m)\u001b[0m\u001b[1;33m\u001b[0m\u001b[1;33m\u001b[0m\u001b[0m\n\u001b[0m\u001b[0;32m     52\u001b[0m         \u001b[1;32massert\u001b[0m \u001b[0mself\u001b[0m\u001b[1;33m.\u001b[0m\u001b[0mhandles\u001b[0m \u001b[1;32mis\u001b[0m \u001b[1;32mnot\u001b[0m \u001b[1;32mNone\u001b[0m\u001b[1;33m\u001b[0m\u001b[1;33m\u001b[0m\u001b[0m\n\u001b[0;32m     53\u001b[0m \u001b[1;33m\u001b[0m\u001b[0m\n",
      "\u001b[1;32m~\\anaconda3\\envs\\gapt-venv\\lib\\site-packages\\pandas\\io\\parsers\\base_parser.py\u001b[0m in \u001b[0;36m_open_handles\u001b[1;34m(self, src, kwds)\u001b[0m\n\u001b[0;32m    227\u001b[0m             \u001b[0mmemory_map\u001b[0m\u001b[1;33m=\u001b[0m\u001b[0mkwds\u001b[0m\u001b[1;33m.\u001b[0m\u001b[0mget\u001b[0m\u001b[1;33m(\u001b[0m\u001b[1;34m\"memory_map\"\u001b[0m\u001b[1;33m,\u001b[0m \u001b[1;32mFalse\u001b[0m\u001b[1;33m)\u001b[0m\u001b[1;33m,\u001b[0m\u001b[1;33m\u001b[0m\u001b[1;33m\u001b[0m\u001b[0m\n\u001b[0;32m    228\u001b[0m             \u001b[0mstorage_options\u001b[0m\u001b[1;33m=\u001b[0m\u001b[0mkwds\u001b[0m\u001b[1;33m.\u001b[0m\u001b[0mget\u001b[0m\u001b[1;33m(\u001b[0m\u001b[1;34m\"storage_options\"\u001b[0m\u001b[1;33m,\u001b[0m \u001b[1;32mNone\u001b[0m\u001b[1;33m)\u001b[0m\u001b[1;33m,\u001b[0m\u001b[1;33m\u001b[0m\u001b[1;33m\u001b[0m\u001b[0m\n\u001b[1;32m--> 229\u001b[1;33m             \u001b[0merrors\u001b[0m\u001b[1;33m=\u001b[0m\u001b[0mkwds\u001b[0m\u001b[1;33m.\u001b[0m\u001b[0mget\u001b[0m\u001b[1;33m(\u001b[0m\u001b[1;34m\"encoding_errors\"\u001b[0m\u001b[1;33m,\u001b[0m \u001b[1;34m\"strict\"\u001b[0m\u001b[1;33m)\u001b[0m\u001b[1;33m,\u001b[0m\u001b[1;33m\u001b[0m\u001b[1;33m\u001b[0m\u001b[0m\n\u001b[0m\u001b[0;32m    230\u001b[0m         )\n\u001b[0;32m    231\u001b[0m \u001b[1;33m\u001b[0m\u001b[0m\n",
      "\u001b[1;32m~\\anaconda3\\envs\\gapt-venv\\lib\\site-packages\\pandas\\io\\common.py\u001b[0m in \u001b[0;36mget_handle\u001b[1;34m(path_or_buf, mode, encoding, compression, memory_map, is_text, errors, storage_options)\u001b[0m\n\u001b[0;32m    705\u001b[0m                 \u001b[0mencoding\u001b[0m\u001b[1;33m=\u001b[0m\u001b[0mioargs\u001b[0m\u001b[1;33m.\u001b[0m\u001b[0mencoding\u001b[0m\u001b[1;33m,\u001b[0m\u001b[1;33m\u001b[0m\u001b[1;33m\u001b[0m\u001b[0m\n\u001b[0;32m    706\u001b[0m                 \u001b[0merrors\u001b[0m\u001b[1;33m=\u001b[0m\u001b[0merrors\u001b[0m\u001b[1;33m,\u001b[0m\u001b[1;33m\u001b[0m\u001b[1;33m\u001b[0m\u001b[0m\n\u001b[1;32m--> 707\u001b[1;33m                 \u001b[0mnewline\u001b[0m\u001b[1;33m=\u001b[0m\u001b[1;34m\"\"\u001b[0m\u001b[1;33m,\u001b[0m\u001b[1;33m\u001b[0m\u001b[1;33m\u001b[0m\u001b[0m\n\u001b[0m\u001b[0;32m    708\u001b[0m             )\n\u001b[0;32m    709\u001b[0m         \u001b[1;32melse\u001b[0m\u001b[1;33m:\u001b[0m\u001b[1;33m\u001b[0m\u001b[1;33m\u001b[0m\u001b[0m\n",
      "\u001b[1;31mFileNotFoundError\u001b[0m: [Errno 2] No such file or directory: '..\\\\..\\\\data\\\\titanic.csv'"
     ]
    }
   ],
   "source": [
    "df = pd.read_csv(os.path.join('..','..','data','titanic.csv'))\n",
    "# df = pd.read_csv(os.path.join('..','..','data','kaggle_train.csv'))\n",
    "# df = pd.read_csv(os.path.join('..','..','data','kaggle_test.csv'))\n",
    "\n",
    "df.info()\n",
    "df.describe()"
   ]
  },
  {
   "cell_type": "code",
   "execution_count": 287,
   "id": "68b6afb2",
   "metadata": {},
   "outputs": [
    {
     "data": {
      "text/html": [
       "<div>\n",
       "<style scoped>\n",
       "    .dataframe tbody tr th:only-of-type {\n",
       "        vertical-align: middle;\n",
       "    }\n",
       "\n",
       "    .dataframe tbody tr th {\n",
       "        vertical-align: top;\n",
       "    }\n",
       "\n",
       "    .dataframe thead th {\n",
       "        text-align: right;\n",
       "    }\n",
       "</style>\n",
       "<table border=\"1\" class=\"dataframe\">\n",
       "  <thead>\n",
       "    <tr style=\"text-align: right;\">\n",
       "      <th></th>\n",
       "      <th>Survived</th>\n",
       "      <th>Pclass</th>\n",
       "      <th>Name</th>\n",
       "      <th>Sex</th>\n",
       "      <th>Age</th>\n",
       "      <th>SibSp</th>\n",
       "      <th>Parch</th>\n",
       "      <th>Ticket</th>\n",
       "      <th>Fare</th>\n",
       "      <th>Cabin</th>\n",
       "      <th>Embarked</th>\n",
       "    </tr>\n",
       "  </thead>\n",
       "  <tbody>\n",
       "    <tr>\n",
       "      <th>0</th>\n",
       "      <td>0.0</td>\n",
       "      <td>3.0</td>\n",
       "      <td>Boulos, Mr. Hanna</td>\n",
       "      <td>male</td>\n",
       "      <td>NaN</td>\n",
       "      <td>0.0</td>\n",
       "      <td>0.0</td>\n",
       "      <td>2664</td>\n",
       "      <td>7.2250</td>\n",
       "      <td>NaN</td>\n",
       "      <td>C</td>\n",
       "    </tr>\n",
       "    <tr>\n",
       "      <th>1</th>\n",
       "      <td>1.0</td>\n",
       "      <td>3.0</td>\n",
       "      <td>de Mulder, Mr. Theodore</td>\n",
       "      <td>male</td>\n",
       "      <td>30.0</td>\n",
       "      <td>0.0</td>\n",
       "      <td>0.0</td>\n",
       "      <td>345774</td>\n",
       "      <td>9.5000</td>\n",
       "      <td>NaN</td>\n",
       "      <td>S</td>\n",
       "    </tr>\n",
       "    <tr>\n",
       "      <th>2</th>\n",
       "      <td>0.0</td>\n",
       "      <td>2.0</td>\n",
       "      <td>Banfield, Mr. Frederick James</td>\n",
       "      <td>male</td>\n",
       "      <td>28.0</td>\n",
       "      <td>0.0</td>\n",
       "      <td>0.0</td>\n",
       "      <td>C.A./SOTON 34068</td>\n",
       "      <td>10.5000</td>\n",
       "      <td>NaN</td>\n",
       "      <td>S</td>\n",
       "    </tr>\n",
       "    <tr>\n",
       "      <th>3</th>\n",
       "      <td>0.0</td>\n",
       "      <td>2.0</td>\n",
       "      <td>Eitemiller, Mr. George Floyd</td>\n",
       "      <td>male</td>\n",
       "      <td>23.0</td>\n",
       "      <td>0.0</td>\n",
       "      <td>0.0</td>\n",
       "      <td>29751</td>\n",
       "      <td>13.0000</td>\n",
       "      <td>NaN</td>\n",
       "      <td>S</td>\n",
       "    </tr>\n",
       "    <tr>\n",
       "      <th>4</th>\n",
       "      <td>1.0</td>\n",
       "      <td>1.0</td>\n",
       "      <td>Longley, Miss. Gretchen Fiske</td>\n",
       "      <td>female</td>\n",
       "      <td>21.0</td>\n",
       "      <td>0.0</td>\n",
       "      <td>0.0</td>\n",
       "      <td>13502</td>\n",
       "      <td>77.9583</td>\n",
       "      <td>D9</td>\n",
       "      <td>S</td>\n",
       "    </tr>\n",
       "  </tbody>\n",
       "</table>\n",
       "</div>"
      ],
      "text/plain": [
       "   Survived  Pclass                           Name     Sex   Age  SibSp  \\\n",
       "0       0.0     3.0              Boulos, Mr. Hanna    male   NaN    0.0   \n",
       "1       1.0     3.0        de Mulder, Mr. Theodore    male  30.0    0.0   \n",
       "2       0.0     2.0  Banfield, Mr. Frederick James    male  28.0    0.0   \n",
       "3       0.0     2.0   Eitemiller, Mr. George Floyd    male  23.0    0.0   \n",
       "4       1.0     1.0  Longley, Miss. Gretchen Fiske  female  21.0    0.0   \n",
       "\n",
       "   Parch            Ticket     Fare Cabin Embarked  \n",
       "0    0.0              2664   7.2250   NaN        C  \n",
       "1    0.0            345774   9.5000   NaN        S  \n",
       "2    0.0  C.A./SOTON 34068  10.5000   NaN        S  \n",
       "3    0.0             29751  13.0000   NaN        S  \n",
       "4    0.0             13502  77.9583    D9        S  "
      ]
     },
     "execution_count": 287,
     "metadata": {},
     "output_type": "execute_result"
    }
   ],
   "source": [
    "df.head()"
   ]
  },
  {
   "cell_type": "markdown",
   "id": "89a06809",
   "metadata": {},
   "source": [
    "The data consists of 10 columns. According to the <a src=\"https://www.kaggle.com/competitions/titanic/data\">Kaggle's data dictionary</a>:\n",
    "\n",
    "<ul> \n",
    "    <li><i>PassengerID</i> is only used to keep track of Passenger's during evaluation.</li>\n",
    "    <li><i>Pclass</i> is the ticket class. (1,2,3)</li>\n",
    "    <li><i>SibSp</i> is the number of siblings and spouses travelling with that person.</li>\n",
    "    <li><i>Parch</i> is the number of parents and children travelling with that person.</li>\n",
    "    <li><i>Cabin</i> is the designation of the cabin where the person's room is.</li>\n",
    "    <li><i>Embarked</i> is the port from which the person boarded the titanic. (Cherbourg, Queenstown, Southampton)</li>\n",
    "    <li><i>Cabin</i> is the designation of the cabin where the person's room is.</li>\n",
    "    <li><i>Ticket</i> is the ticket number.</li>\n",
    "    <li><i>Fare</i> is how much the ticket cost.</li>\n",
    "</ul>"
   ]
  },
  {
   "cell_type": "markdown",
   "id": "2c68e795",
   "metadata": {},
   "source": [
    "## Missing Values\n",
    "Not all rows may have complete data. Some columns may contain missing values. There are multiple approaches to handle missing values, as you will see later on.\n",
    "\n",
    "Generally, if a column has few missing values it is acceptable to drop the rows with the missing values. If a column is largely composed of missing values, as is the case with <i>Cabin</i> then usually the whole column is dropped. Other times, missing values can be <i>imputated</i> by inferring knowledge from other columns or commmon sense. For example, if we are imputating <i>Age</i> we should know that whatever our technique is, the number should never be negative or above a certain threshold, such as 100."
   ]
  },
  {
   "cell_type": "code",
   "execution_count": 288,
   "id": "f6695919",
   "metadata": {},
   "outputs": [
    {
     "data": {
      "text/html": [
       "<div>\n",
       "<style scoped>\n",
       "    .dataframe tbody tr th:only-of-type {\n",
       "        vertical-align: middle;\n",
       "    }\n",
       "\n",
       "    .dataframe tbody tr th {\n",
       "        vertical-align: top;\n",
       "    }\n",
       "\n",
       "    .dataframe thead th {\n",
       "        text-align: right;\n",
       "    }\n",
       "</style>\n",
       "<table border=\"1\" class=\"dataframe\">\n",
       "  <thead>\n",
       "    <tr style=\"text-align: right;\">\n",
       "      <th></th>\n",
       "      <th>Total</th>\n",
       "      <th>Missing %</th>\n",
       "    </tr>\n",
       "  </thead>\n",
       "  <tbody>\n",
       "    <tr>\n",
       "      <th>Cabin</th>\n",
       "      <td>1014</td>\n",
       "      <td>77.46</td>\n",
       "    </tr>\n",
       "    <tr>\n",
       "      <th>Age</th>\n",
       "      <td>263</td>\n",
       "      <td>20.09</td>\n",
       "    </tr>\n",
       "    <tr>\n",
       "      <th>Embarked</th>\n",
       "      <td>2</td>\n",
       "      <td>0.15</td>\n",
       "    </tr>\n",
       "    <tr>\n",
       "      <th>Fare</th>\n",
       "      <td>1</td>\n",
       "      <td>0.08</td>\n",
       "    </tr>\n",
       "    <tr>\n",
       "      <th>Survived</th>\n",
       "      <td>0</td>\n",
       "      <td>0.00</td>\n",
       "    </tr>\n",
       "    <tr>\n",
       "      <th>Pclass</th>\n",
       "      <td>0</td>\n",
       "      <td>0.00</td>\n",
       "    </tr>\n",
       "    <tr>\n",
       "      <th>Name</th>\n",
       "      <td>0</td>\n",
       "      <td>0.00</td>\n",
       "    </tr>\n",
       "    <tr>\n",
       "      <th>Sex</th>\n",
       "      <td>0</td>\n",
       "      <td>0.00</td>\n",
       "    </tr>\n",
       "    <tr>\n",
       "      <th>SibSp</th>\n",
       "      <td>0</td>\n",
       "      <td>0.00</td>\n",
       "    </tr>\n",
       "    <tr>\n",
       "      <th>Parch</th>\n",
       "      <td>0</td>\n",
       "      <td>0.00</td>\n",
       "    </tr>\n",
       "    <tr>\n",
       "      <th>Ticket</th>\n",
       "      <td>0</td>\n",
       "      <td>0.00</td>\n",
       "    </tr>\n",
       "  </tbody>\n",
       "</table>\n",
       "</div>"
      ],
      "text/plain": [
       "          Total  Missing %\n",
       "Cabin      1014      77.46\n",
       "Age         263      20.09\n",
       "Embarked      2       0.15\n",
       "Fare          1       0.08\n",
       "Survived      0       0.00\n",
       "Pclass        0       0.00\n",
       "Name          0       0.00\n",
       "Sex           0       0.00\n",
       "SibSp         0       0.00\n",
       "Parch         0       0.00\n",
       "Ticket        0       0.00"
      ]
     },
     "execution_count": 288,
     "metadata": {},
     "output_type": "execute_result"
    }
   ],
   "source": [
    "null = df.isnull().sum().sort_values(ascending=False)\n",
    "percentage_of_null = round(null/df.isnull().count()*100,2)\n",
    "\n",
    "pd.concat([null,percentage_of_null],axis=1,keys=['Total','Missing %'])\n"
   ]
  },
  {
   "cell_type": "markdown",
   "id": "bdb1711e",
   "metadata": {},
   "source": [
    "The column with the most missing values is <i>Cabin</i>. <i>Fare</i> only has one instance of missing values and <i>Age</i> is missing in 21% of the rows."
   ]
  },
  {
   "cell_type": "markdown",
   "id": "66601db1",
   "metadata": {},
   "source": [
    "##### In order to begin engineering new featuring, we should look for any correlations between data points."
   ]
  },
  {
   "cell_type": "markdown",
   "id": "06c3fe9e",
   "metadata": {},
   "source": [
    "### What is the highest age group that survived?"
   ]
  },
  {
   "cell_type": "code",
   "execution_count": 289,
   "id": "455bfbb2",
   "metadata": {},
   "outputs": [
    {
     "data": {
      "image/png": "[encoded data removed]",
      "text/plain": [
       "<Figure size 500x500 with 1 Axes>"
      ]
     },
     "metadata": {},
     "output_type": "display_data"
    }
   ],
   "source": [
    "try:\n",
    "    survived = df[df['Survived']==1].Age\n",
    "    died     = df[df['Survived']==0].Age\n",
    "\n",
    "    plt.hist([survived,died], bins=9,label=['Survived','Died'])\n",
    "    plt.rcParams[\"figure.figsize\"] = (5,5)\n",
    "\n",
    "    plt.xlabel(\"Age\")\n",
    "    plt.legend(labels=['Survived','Died'])\n",
    "\n",
    "    plt.show()\n",
    "except Exception as e:\n",
    "    print('Skipping...')"
   ]
  },
  {
   "cell_type": "markdown",
   "id": "6c6feb6d",
   "metadata": {},
   "source": [
    "##### Across all age groups, the majority of people died, except people between the age of 0 to 10 and 70 to 80."
   ]
  },
  {
   "cell_type": "markdown",
   "id": "449e1933",
   "metadata": {},
   "source": [
    "### Comparing the surival rate of men and women"
   ]
  },
  {
   "cell_type": "code",
   "execution_count": 290,
   "id": "db48d711",
   "metadata": {},
   "outputs": [
    {
     "data": {
      "image/png": "[encoded data removed]",
      "text/plain": [
       "<Figure size 500x500 with 1 Axes>"
      ]
     },
     "metadata": {},
     "output_type": "display_data"
    }
   ],
   "source": [
    "try:\n",
    "    men   = df[df['Sex']=='male']\n",
    "    women = df[df['Sex']=='female']\n",
    "\n",
    "    rate_m = len(men[men['Survived']==1]) / len(men.Survived)\n",
    "    rate_f = len(women[women['Survived']==1]) / len(women.Survived)\n",
    "\n",
    "    plt.ylim(0,100)\n",
    "    plt.ylabel(\"Percentage Survived\")\n",
    "    sns.barplot([\"Men\",\"Women\"],[rate_m*100,rate_f*100])\n",
    "    plt.show()\n",
    "except Exception as e:\n",
    "    print('Skipping...')"
   ]
  },
  {
   "cell_type": "markdown",
   "id": "c10501e7",
   "metadata": {},
   "source": [
    "##### Around 20% of men and 70% of women survived. Because of this, we expect to see the model rarely allow male individuals to survive."
   ]
  },
  {
   "cell_type": "markdown",
   "id": "4eac078b",
   "metadata": {},
   "source": [
    "## How many men and women died, per age group?"
   ]
  },
  {
   "cell_type": "code",
   "execution_count": 291,
   "id": "8bca3dd6",
   "metadata": {},
   "outputs": [
    {
     "data": {
      "image/png": "[encoded data removed]",
      "text/plain": [
       "<Figure size 500x500 with 2 Axes>"
      ]
     },
     "metadata": {},
     "output_type": "display_data"
    }
   ],
   "source": [
    "try:\n",
    "\n",
    "    bins = 12\n",
    "\n",
    "    men   = df[df['Sex']=='male']\n",
    "    women = df[df['Sex']=='female']\n",
    "\n",
    "    survived_m = men[men['Survived']==1].Age\n",
    "    died_m     = men[men['Survived']==0].Age\n",
    "\n",
    "    survived_f = women[women['Survived']==1].Age\n",
    "    died_f     = women[women['Survived']==0].Age\n",
    "\n",
    "\n",
    "    plt.subplot(1,2,1)\n",
    "    plt.ylim(0,100)\n",
    "    plt.title('Men')\n",
    "    plt.xlabel(\"Age\")\n",
    "    plt.hist([survived_m,died_m], bins=bins,label=['Survived','Died'])\n",
    "\n",
    "    plt.subplot(1,2,2)\n",
    "    plt.ylim(0,100)\n",
    "    plt.title('Women')\n",
    "    plt.xlabel(\"Age\")\n",
    "    plt.hist([survived_f,died_f], bins=bins,label=['Survived','Died'])\n",
    "\n",
    "\n",
    "    plt.legend(labels=['Survived','Died'])\n",
    "\n",
    "    plt.show()\n",
    "except Exception as e:\n",
    "    print('Skipping...')"
   ]
  },
  {
   "cell_type": "markdown",
   "id": "a1601d86",
   "metadata": {},
   "source": [
    "##### The majority of men in almost all age groups died, while the majority of women in all age groups survived. The lowest survival rate for men was between the ages of 20 and 40, as can be seen by the histogram."
   ]
  },
  {
   "cell_type": "markdown",
   "id": "528d3d7e",
   "metadata": {},
   "source": [
    "### Viewing Correlations between variables\n",
    "Not all variables may be independent to each other. Before looking at the correlation heat map, let's theorise some predicitions. For example, we would expect that passengers who <i>paid more</i> should have a <i>higher</i> passenger class. Moreover, passengers with a <i>higher</i> passenger class could be important people and hence might have been given priority during the escape."
   ]
  },
  {
   "cell_type": "code",
   "execution_count": 292,
   "id": "481cf1c6",
   "metadata": {},
   "outputs": [
    {
     "data": {
      "image/png": "[encoded data removed]",
      "text/plain": [
       "<Figure size 500x500 with 2 Axes>"
      ]
     },
     "metadata": {},
     "output_type": "display_data"
    }
   ],
   "source": [
    "corr = df.corr()\n",
    "mask = np.zeros_like(corr)\n",
    "mask[np.triu_indices_from(mask)] = True\n",
    "\n",
    "sns.heatmap(corr, linewidth=0.3, annot=True, square=True,\n",
    "           mask=mask)\n",
    "plt.show()"
   ]
  },
  {
   "cell_type": "markdown",
   "id": "107d3578",
   "metadata": {},
   "source": [
    "The most correlated variables are Pclass and Fare, as expected. There does exist a weak correlation between Pclass and Survived, solidifying the claim that people who paid more were given priority. There does not appear to be any correlation between the Age of the person and his chances of survival, since the correlation between Age and Survived is close to 0."
   ]
  },
  {
   "cell_type": "code",
   "execution_count": 293,
   "id": "04fd17b8",
   "metadata": {},
   "outputs": [
    {
     "data": {
      "image/png": "[encoded data removed]",
      "text/plain": [
       "<Figure size 500x500 with 1 Axes>"
      ]
     },
     "metadata": {},
     "output_type": "display_data"
    }
   ],
   "source": [
    "sns.scatterplot(df['Pclass'],df['Fare'])\n",
    "plt.show()"
   ]
  },
  {
   "cell_type": "markdown",
   "id": "a7cda86a",
   "metadata": {},
   "source": [
    "Although Pclass is highly correlated with Fare, we cannot draw the conclusion that Pclass <i>encodes</i> Fare in its data. From the above scatter plot we can see that if a person paid less than 100, then it is unclear which Pclass he belongs to. Moreover, there does not appear to be any major distinction between Pclass 2 and 3."
   ]
  },
  {
   "cell_type": "code",
   "execution_count": 294,
   "id": "31028b7d",
   "metadata": {},
   "outputs": [
    {
     "data": {
      "image/png": "[encoded data removed]",
      "text/plain": [
       "<Figure size 500x500 with 1 Axes>"
      ]
     },
     "metadata": {},
     "output_type": "display_data"
    }
   ],
   "source": [
    "sns.catplot(x=\"Pclass\", y=\"Fare\", data=df, kind=\"boxen\")\n",
    "plt.show()"
   ]
  },
  {
   "cell_type": "markdown",
   "id": "e0aecd3c",
   "metadata": {},
   "source": [
    "From the above cat plot, we can see that the majority of people in passenger class 1 paid between 25 and 100. People in this class paid significantly more than those in 2 and 3. The distinction between 2 and 3 is miniscule, however we can see that those in 2 paid slightly more than those in 3."
   ]
  },
  {
   "cell_type": "markdown",
   "id": "304e6325",
   "metadata": {},
   "source": [
    "##### Let's explore the Embarked column.\n",
    "Would we expect the port from which a passenger embarked on the Titanic from, to affect the chances of survival for that person?"
   ]
  },
  {
   "cell_type": "code",
   "execution_count": 295,
   "id": "2b48d8ee",
   "metadata": {
    "scrolled": false
   },
   "outputs": [
    {
     "data": {
      "image/png": "[encoded data removed]",
      "text/plain": [
       "<Figure size 698x900 with 3 Axes>"
      ]
     },
     "metadata": {},
     "output_type": "display_data"
    }
   ],
   "source": [
    "try:\n",
    "    FacetGrid = sns.FacetGrid(df, row='Embarked', aspect=2)\n",
    "    FacetGrid.map(sns.pointplot, 'Pclass', 'Survived','Sex',\n",
    "                  linestyles = '-.')\n",
    "    FacetGrid.add_legend()\n",
    "    plt.show()\n",
    "except Exception as e:\n",
    "    print('Skipping...')\n"
   ]
  },
  {
   "cell_type": "markdown",
   "id": "de093dfa",
   "metadata": {},
   "source": [
    "From the above pointplots, we can see that embarking from Port Q has the worst survival chances for males,\n",
    "but the best for women. Embarking from Port C gives the best chances of survival for men, but the worst for women. \n",
    "Pclass 3 seems to be the worst option. Survival rate always dips for both men and women, except for a slight increase for men who embarked from Port Q."
   ]
  },
  {
   "cell_type": "markdown",
   "id": "4ca4d415",
   "metadata": {},
   "source": [
    "## Feature engineering the Fare Column\n",
    "In order to make the data simpler, I will attempt to <i>bin</i> the Fare Column into some number of discrete groups. The end goal is to create a new column <i>Fare Category</i>, which would contain categorical values (Low, Mid, High) instad of continous numerical ones."
   ]
  },
  {
   "cell_type": "code",
   "execution_count": 296,
   "id": "4f66f978",
   "metadata": {},
   "outputs": [
    {
     "data": {
      "text/html": [
       "<div>\n",
       "<style scoped>\n",
       "    .dataframe tbody tr th:only-of-type {\n",
       "        vertical-align: middle;\n",
       "    }\n",
       "\n",
       "    .dataframe tbody tr th {\n",
       "        vertical-align: top;\n",
       "    }\n",
       "\n",
       "    .dataframe thead th {\n",
       "        text-align: right;\n",
       "    }\n",
       "</style>\n",
       "<table border=\"1\" class=\"dataframe\">\n",
       "  <thead>\n",
       "    <tr style=\"text-align: right;\">\n",
       "      <th></th>\n",
       "      <th>Survived</th>\n",
       "      <th>Pclass</th>\n",
       "      <th>Name</th>\n",
       "      <th>Sex</th>\n",
       "      <th>Age</th>\n",
       "      <th>SibSp</th>\n",
       "      <th>Parch</th>\n",
       "      <th>Ticket</th>\n",
       "      <th>Fare</th>\n",
       "      <th>Cabin</th>\n",
       "      <th>Embarked</th>\n",
       "    </tr>\n",
       "  </thead>\n",
       "  <tbody>\n",
       "    <tr>\n",
       "      <th>654</th>\n",
       "      <td>0.0</td>\n",
       "      <td>3.0</td>\n",
       "      <td>Storey, Mr. Thomas</td>\n",
       "      <td>male</td>\n",
       "      <td>60.5</td>\n",
       "      <td>0.0</td>\n",
       "      <td>0.0</td>\n",
       "      <td>3701</td>\n",
       "      <td>NaN</td>\n",
       "      <td>NaN</td>\n",
       "      <td>S</td>\n",
       "    </tr>\n",
       "  </tbody>\n",
       "</table>\n",
       "</div>"
      ],
      "text/plain": [
       "     Survived  Pclass                Name   Sex   Age  SibSp  Parch Ticket  \\\n",
       "654       0.0     3.0  Storey, Mr. Thomas  male  60.5    0.0    0.0   3701   \n",
       "\n",
       "     Fare Cabin Embarked  \n",
       "654   NaN   NaN        S  "
      ]
     },
     "execution_count": 296,
     "metadata": {},
     "output_type": "execute_result"
    }
   ],
   "source": [
    "df[df.Fare.isna()]"
   ]
  },
  {
   "cell_type": "markdown",
   "id": "3e1f23ee",
   "metadata": {},
   "source": [
    "##### We have one passenger with NA values for Fare. Since it is only one, we can remove it."
   ]
  },
  {
   "cell_type": "code",
   "execution_count": 297,
   "id": "721c0937",
   "metadata": {},
   "outputs": [],
   "source": [
    "df = df.dropna(subset=['Fare'])"
   ]
  },
  {
   "cell_type": "markdown",
   "id": "8787aed3",
   "metadata": {},
   "source": [
    "##### Let's explore the distributions for Fare, before feature engineering the new column."
   ]
  },
  {
   "cell_type": "code",
   "execution_count": 298,
   "id": "1af808b3",
   "metadata": {},
   "outputs": [
    {
     "data": {
      "image/png": "[encoded data removed]",
      "text/plain": [
       "<Figure size 500x500 with 1 Axes>"
      ]
     },
     "metadata": {},
     "output_type": "display_data"
    },
    {
     "data": {
      "image/png": "[encoded data removed]",
      "text/plain": [
       "<Figure size 500x500 with 1 Axes>"
      ]
     },
     "metadata": {},
     "output_type": "display_data"
    }
   ],
   "source": [
    "sns.displot(df[\"Fare\"], kde=True)\n",
    "plt.show()\n",
    "\n",
    "fig,ax = plt.subplots()\n",
    "sns.histplot(df[\"Fare\"], kde=True, ax=ax)\n",
    "\n",
    "ax.set_xlim(0,100)\n",
    "ax.set_xticks(range(0,100,10))\n",
    "plt.show()"
   ]
  },
  {
   "cell_type": "markdown",
   "id": "9a715e3d",
   "metadata": {},
   "source": [
    "##### In order to choose the bin ranges, first we will remove all outliers by only considering instances in the InterQuartile Range (IQR).\n",
    "The bin ranges will be calulcated automatically by matplotlib's hist function"
   ]
  },
  {
   "cell_type": "code",
   "execution_count": 299,
   "id": "77494075",
   "metadata": {
    "scrolled": false
   },
   "outputs": [
    {
     "data": {
      "image/png": "[encoded data removed]",
      "text/plain": [
       "<Figure size 500x500 with 1 Axes>"
      ]
     },
     "metadata": {},
     "output_type": "display_data"
    }
   ],
   "source": [
    "#Remove outliers to calculate bin ranges\n",
    "Q1 = df['Fare'].quantile(0.25) \n",
    "Q3 = df['Fare'].quantile(0.75)\n",
    "IQR = Q3 - Q1\n",
    "\n",
    "fare_categories = df['Fare'][~((df['Fare'] < (Q1 - 1.5 * IQR)) |(df['Fare'] > (Q3 + 1.5 * IQR)))]\n",
    "\n",
    "ranges = plt.hist(fare_categories, bins=3)[1]\n",
    "plt.show()"
   ]
  },
  {
   "cell_type": "code",
   "execution_count": 300,
   "id": "a485f79b",
   "metadata": {},
   "outputs": [
    {
     "data": {
      "text/plain": [
       "array([ 0.        , 21.66666667, 43.33333333,         inf])"
      ]
     },
     "execution_count": 300,
     "metadata": {},
     "output_type": "execute_result"
    }
   ],
   "source": [
    "ranges[3] = float('inf') #Anything greater than the 2nd bin is in the 3rd bin.\n",
    "ranges"
   ]
  },
  {
   "cell_type": "markdown",
   "id": "493914c6",
   "metadata": {},
   "source": [
    "##### From the above plots, we can see that the majority of people paid between 0 and 22.\n",
    "Using these ranges, we can feature engineer the new column <i>Fare_Category</i>\n",
    "<ul>\n",
    "<li>If a passenger's Fare was in the range [0,22], then <i>Fare_Category</i> would be 'Low' </li>\n",
    "<li>If a passenger's Fare was in the range [22+,43], then <i>Fare_Category</i> would be 'Mid' </li>\n",
    "<li>If a passenger's Fare was in the range [43+], then <i>Fare_Category</i> would be 'High' </li>\n",
    "</ul>"
   ]
  },
  {
   "cell_type": "code",
   "execution_count": 301,
   "id": "4ea04421",
   "metadata": {},
   "outputs": [
    {
     "data": {
      "text/html": [
       "<div>\n",
       "<style scoped>\n",
       "    .dataframe tbody tr th:only-of-type {\n",
       "        vertical-align: middle;\n",
       "    }\n",
       "\n",
       "    .dataframe tbody tr th {\n",
       "        vertical-align: top;\n",
       "    }\n",
       "\n",
       "    .dataframe thead th {\n",
       "        text-align: right;\n",
       "    }\n",
       "</style>\n",
       "<table border=\"1\" class=\"dataframe\">\n",
       "  <thead>\n",
       "    <tr style=\"text-align: right;\">\n",
       "      <th></th>\n",
       "      <th>Survived</th>\n",
       "      <th>Pclass</th>\n",
       "      <th>Name</th>\n",
       "      <th>Sex</th>\n",
       "      <th>Age</th>\n",
       "      <th>SibSp</th>\n",
       "      <th>Parch</th>\n",
       "      <th>Ticket</th>\n",
       "      <th>Fare</th>\n",
       "      <th>Cabin</th>\n",
       "      <th>Embarked</th>\n",
       "      <th>Fare_Category</th>\n",
       "    </tr>\n",
       "  </thead>\n",
       "  <tbody>\n",
       "    <tr>\n",
       "      <th>0</th>\n",
       "      <td>0.0</td>\n",
       "      <td>3.0</td>\n",
       "      <td>Boulos, Mr. Hanna</td>\n",
       "      <td>male</td>\n",
       "      <td>NaN</td>\n",
       "      <td>0.0</td>\n",
       "      <td>0.0</td>\n",
       "      <td>2664</td>\n",
       "      <td>7.2250</td>\n",
       "      <td>NaN</td>\n",
       "      <td>C</td>\n",
       "      <td>Low</td>\n",
       "    </tr>\n",
       "    <tr>\n",
       "      <th>1</th>\n",
       "      <td>1.0</td>\n",
       "      <td>3.0</td>\n",
       "      <td>de Mulder, Mr. Theodore</td>\n",
       "      <td>male</td>\n",
       "      <td>30.0</td>\n",
       "      <td>0.0</td>\n",
       "      <td>0.0</td>\n",
       "      <td>345774</td>\n",
       "      <td>9.5000</td>\n",
       "      <td>NaN</td>\n",
       "      <td>S</td>\n",
       "      <td>Low</td>\n",
       "    </tr>\n",
       "    <tr>\n",
       "      <th>2</th>\n",
       "      <td>0.0</td>\n",
       "      <td>2.0</td>\n",
       "      <td>Banfield, Mr. Frederick James</td>\n",
       "      <td>male</td>\n",
       "      <td>28.0</td>\n",
       "      <td>0.0</td>\n",
       "      <td>0.0</td>\n",
       "      <td>C.A./SOTON 34068</td>\n",
       "      <td>10.5000</td>\n",
       "      <td>NaN</td>\n",
       "      <td>S</td>\n",
       "      <td>Low</td>\n",
       "    </tr>\n",
       "    <tr>\n",
       "      <th>3</th>\n",
       "      <td>0.0</td>\n",
       "      <td>2.0</td>\n",
       "      <td>Eitemiller, Mr. George Floyd</td>\n",
       "      <td>male</td>\n",
       "      <td>23.0</td>\n",
       "      <td>0.0</td>\n",
       "      <td>0.0</td>\n",
       "      <td>29751</td>\n",
       "      <td>13.0000</td>\n",
       "      <td>NaN</td>\n",
       "      <td>S</td>\n",
       "      <td>Low</td>\n",
       "    </tr>\n",
       "    <tr>\n",
       "      <th>4</th>\n",
       "      <td>1.0</td>\n",
       "      <td>1.0</td>\n",
       "      <td>Longley, Miss. Gretchen Fiske</td>\n",
       "      <td>female</td>\n",
       "      <td>21.0</td>\n",
       "      <td>0.0</td>\n",
       "      <td>0.0</td>\n",
       "      <td>13502</td>\n",
       "      <td>77.9583</td>\n",
       "      <td>D9</td>\n",
       "      <td>S</td>\n",
       "      <td>High</td>\n",
       "    </tr>\n",
       "  </tbody>\n",
       "</table>\n",
       "</div>"
      ],
      "text/plain": [
       "   Survived  Pclass                           Name     Sex   Age  SibSp  \\\n",
       "0       0.0     3.0              Boulos, Mr. Hanna    male   NaN    0.0   \n",
       "1       1.0     3.0        de Mulder, Mr. Theodore    male  30.0    0.0   \n",
       "2       0.0     2.0  Banfield, Mr. Frederick James    male  28.0    0.0   \n",
       "3       0.0     2.0   Eitemiller, Mr. George Floyd    male  23.0    0.0   \n",
       "4       1.0     1.0  Longley, Miss. Gretchen Fiske  female  21.0    0.0   \n",
       "\n",
       "   Parch            Ticket     Fare Cabin Embarked Fare_Category  \n",
       "0    0.0              2664   7.2250   NaN        C           Low  \n",
       "1    0.0            345774   9.5000   NaN        S           Low  \n",
       "2    0.0  C.A./SOTON 34068  10.5000   NaN        S           Low  \n",
       "3    0.0             29751  13.0000   NaN        S           Low  \n",
       "4    0.0             13502  77.9583    D9        S          High  "
      ]
     },
     "execution_count": 301,
     "metadata": {},
     "output_type": "execute_result"
    }
   ],
   "source": [
    "df['Fare_Category'] = pd.cut(df['Fare'], bins=ranges, labels=['Low','Mid','High'])\n",
    "df.head()"
   ]
  },
  {
   "cell_type": "markdown",
   "id": "bd95536d",
   "metadata": {},
   "source": [
    "##### Let's explore the new column.\n",
    "How does the survival rate change for evey fare category?"
   ]
  },
  {
   "cell_type": "code",
   "execution_count": 302,
   "id": "2303a894",
   "metadata": {},
   "outputs": [
    {
     "data": {
      "image/png": "[encoded data removed]",
      "text/plain": [
       "<Figure size 500x500 with 1 Axes>"
      ]
     },
     "metadata": {},
     "output_type": "display_data"
    },
    {
     "data": {
      "image/png": "[encoded data removed]",
      "text/plain": [
       "<Figure size 1000x500 with 1 Axes>"
      ]
     },
     "metadata": {},
     "output_type": "display_data"
    }
   ],
   "source": [
    "try:\n",
    "\n",
    "    low  = df[df[\"Fare_Category\"] == \"Low\"]\n",
    "    mid  = df[df[\"Fare_Category\"] == \"Mid\"]\n",
    "    high = df[df[\"Fare_Category\"] == \"High\"]\n",
    "\n",
    "    low_survived = low[low[\"Survived\"] == 1].Survived.count()/low.Survived.count() * 100\n",
    "    mid_survived = mid[mid[\"Survived\"] == 1].Survived.count()/mid.Survived.count() * 100\n",
    "    high_survived = high[high[\"Survived\"] == 1].Survived.count()/high.Survived.count() * 100\n",
    "\n",
    "    fig,ax = plt.subplots()\n",
    "\n",
    "    plt.title('Survival Rate for every Fare Category')\n",
    "    plt.xlabel(\"Fare Category\")\n",
    "    plt.ylabel(\"Survival Rate %\")\n",
    "\n",
    "    sns.barplot(x=[\"Low\",\"Mid\",\"High\"], y=[low_survived,mid_survived,high_survived])\n",
    "    sns.factorplot(\"Fare_Category\", \"Survived\", data=df, aspect=2)\n",
    "    plt.show()\n",
    "except Exception as e:\n",
    "    print('Skipping...')\n"
   ]
  },
  {
   "cell_type": "markdown",
   "id": "7188fc31",
   "metadata": {},
   "source": [
    "It seems that the fare is positively correlated with your chances of survival. We have seen that passengers who paid more where more likely to belong to Pclass 1. Moreover, we know that Pclass 1 <i>tends</i> to have the highest survival rate across all values of Embarked & Sex. So this conclusion makes sense."
   ]
  },
  {
   "cell_type": "markdown",
   "id": "e555b097",
   "metadata": {},
   "source": [
    "## Exploring SibSp and Parch\n",
    "Siblings, spouses, parents and children can all be grouped into one column called <i>Family</i>. Using this new column, let's explore the survival rate across the number of family members."
   ]
  },
  {
   "cell_type": "code",
   "execution_count": 303,
   "id": "2558e4b7",
   "metadata": {},
   "outputs": [],
   "source": [
    "df['Family'] = df['SibSp']+df['Parch']"
   ]
  },
  {
   "cell_type": "code",
   "execution_count": 304,
   "id": "4aa9e0cd",
   "metadata": {
    "scrolled": false
   },
   "outputs": [
    {
     "data": {
      "image/png": "[encoded data removed]",
      "text/plain": [
       "<Figure size 500x500 with 1 Axes>"
      ]
     },
     "metadata": {},
     "output_type": "display_data"
    },
    {
     "data": {
      "image/png": "[encoded data removed]",
      "text/plain": [
       "<Figure size 1000x500 with 1 Axes>"
      ]
     },
     "metadata": {},
     "output_type": "display_data"
    },
    {
     "data": {
      "image/png": "[encoded data removed]",
      "text/plain": [
       "<Figure size 1098x500 with 1 Axes>"
      ]
     },
     "metadata": {},
     "output_type": "display_data"
    }
   ],
   "source": [
    "try:\n",
    "    max = int(df[\"Family\"].max()+1)\n",
    "    arr = [None]*max\n",
    "\n",
    "    family = pd.DataFrame()\n",
    "\n",
    "    for i in range(max):\n",
    "        survived = len(df[(df[\"Family\"]==i) & (df[\"Survived\"]==1)])\n",
    "        total = len(df[df[\"Family\"]==i])\n",
    "\n",
    "        arr[i] = survived/total * 100 if total > 0 else 0\n",
    "\n",
    "    fig,ax = plt.subplots()\n",
    "\n",
    "    plt.title('Survival Rate for different Family Sizes')\n",
    "    plt.xlabel(\"Family Members\")\n",
    "    plt.ylabel(\"Survival Rate %\")\n",
    "\n",
    "    sns.barplot(x=[i for i in range(max)], y=arr)\n",
    "    sns.factorplot('Family', 'Survived', data=df, aspect=2)\n",
    "    sns.factorplot('Family', 'Survived', data=df, aspect=2, hue=\"Sex\")\n",
    "    plt.show()\n",
    "except Exception as e:\n",
    "    print('Skipping...')"
   ]
  },
  {
   "cell_type": "markdown",
   "id": "aae44ffe",
   "metadata": {},
   "source": [
    "From the above graphs we can infer that having 3 family members gives the highest chances of survival, for both men and women. Going forward, I will remove SibSp and Parch from the dataset later on, since <i>Family</i> will encode the same information."
   ]
  },
  {
   "cell_type": "markdown",
   "id": "766bd7e7",
   "metadata": {},
   "source": [
    "### Imputing Age\n",
    "Whenever we encounter a passenger with missing age, we will fill it with the average age of the people with the same <i>Family</i> and <i>Pclass</i> values. This is because <i>Pclass</i>, <i>SibSp</i> and <i>Parch</i> are the most correlated with Age."
   ]
  },
  {
   "cell_type": "code",
   "execution_count": 305,
   "id": "02734260",
   "metadata": {
    "scrolled": true
   },
   "outputs": [
    {
     "data": {
      "text/html": [
       "<div>\n",
       "<style scoped>\n",
       "    .dataframe tbody tr th:only-of-type {\n",
       "        vertical-align: middle;\n",
       "    }\n",
       "\n",
       "    .dataframe tbody tr th {\n",
       "        vertical-align: top;\n",
       "    }\n",
       "\n",
       "    .dataframe thead th {\n",
       "        text-align: right;\n",
       "    }\n",
       "</style>\n",
       "<table border=\"1\" class=\"dataframe\">\n",
       "  <thead>\n",
       "    <tr style=\"text-align: right;\">\n",
       "      <th></th>\n",
       "      <th>Survived</th>\n",
       "      <th>Pclass</th>\n",
       "      <th>Name</th>\n",
       "      <th>Sex</th>\n",
       "      <th>Age</th>\n",
       "      <th>SibSp</th>\n",
       "      <th>Parch</th>\n",
       "      <th>Ticket</th>\n",
       "      <th>Fare</th>\n",
       "      <th>Cabin</th>\n",
       "      <th>Embarked</th>\n",
       "      <th>Fare_Category</th>\n",
       "      <th>Family</th>\n",
       "    </tr>\n",
       "  </thead>\n",
       "  <tbody>\n",
       "  </tbody>\n",
       "</table>\n",
       "</div>"
      ],
      "text/plain": [
       "Empty DataFrame\n",
       "Columns: [Survived, Pclass, Name, Sex, Age, SibSp, Parch, Ticket, Fare, Cabin, Embarked, Fare_Category, Family]\n",
       "Index: []"
      ]
     },
     "execution_count": 305,
     "metadata": {},
     "output_type": "execute_result"
    }
   ],
   "source": [
    "#Impute Age missing values by getting the average age for that person's Sex, Pclass and Survived value.\n",
    "\n",
    "df['Age'] = df['Age'].fillna(df.groupby(['Family','Pclass'])['Age'].transform('mean'))\n",
    "df[df.Age.isna()]"
   ]
  },
  {
   "cell_type": "markdown",
   "id": "f23805ac",
   "metadata": {},
   "source": [
    "## Adding Mother column\n",
    "The Mother column will be a binary categorical variable. A passenger is considered to be a mother if:\n",
    "<ul>\n",
    "    <li> Passenger is female\n",
    "    <li> Passenger is over 18\n",
    "    <li> Passenger's salutation is Mrs.\n",
    "    <li> Passenger has at least one Parent/Child\n",
    "        \n",
    "        "
   ]
  },
  {
   "cell_type": "code",
   "execution_count": 307,
   "id": "aa5567f7",
   "metadata": {
    "scrolled": false
   },
   "outputs": [
    {
     "data": {
      "text/html": [
       "<div>\n",
       "<style scoped>\n",
       "    .dataframe tbody tr th:only-of-type {\n",
       "        vertical-align: middle;\n",
       "    }\n",
       "\n",
       "    .dataframe tbody tr th {\n",
       "        vertical-align: top;\n",
       "    }\n",
       "\n",
       "    .dataframe thead th {\n",
       "        text-align: right;\n",
       "    }\n",
       "</style>\n",
       "<table border=\"1\" class=\"dataframe\">\n",
       "  <thead>\n",
       "    <tr style=\"text-align: right;\">\n",
       "      <th></th>\n",
       "      <th>Survived</th>\n",
       "      <th>Pclass</th>\n",
       "      <th>Name</th>\n",
       "      <th>Sex</th>\n",
       "      <th>Age</th>\n",
       "      <th>SibSp</th>\n",
       "      <th>Parch</th>\n",
       "      <th>Ticket</th>\n",
       "      <th>Fare</th>\n",
       "      <th>Cabin</th>\n",
       "      <th>Embarked</th>\n",
       "      <th>Fare_Category</th>\n",
       "      <th>Family</th>\n",
       "    </tr>\n",
       "  </thead>\n",
       "  <tbody>\n",
       "    <tr>\n",
       "      <th>0</th>\n",
       "      <td>0.0</td>\n",
       "      <td>3.0</td>\n",
       "      <td>Boulos, Mr. Hanna</td>\n",
       "      <td>male</td>\n",
       "      <td>27.504702</td>\n",
       "      <td>0.0</td>\n",
       "      <td>0.0</td>\n",
       "      <td>2664</td>\n",
       "      <td>7.2250</td>\n",
       "      <td>NaN</td>\n",
       "      <td>C</td>\n",
       "      <td>Low</td>\n",
       "      <td>0.0</td>\n",
       "    </tr>\n",
       "    <tr>\n",
       "      <th>1</th>\n",
       "      <td>1.0</td>\n",
       "      <td>3.0</td>\n",
       "      <td>de Mulder, Mr. Theodore</td>\n",
       "      <td>male</td>\n",
       "      <td>30.000000</td>\n",
       "      <td>0.0</td>\n",
       "      <td>0.0</td>\n",
       "      <td>345774</td>\n",
       "      <td>9.5000</td>\n",
       "      <td>NaN</td>\n",
       "      <td>S</td>\n",
       "      <td>Low</td>\n",
       "      <td>0.0</td>\n",
       "    </tr>\n",
       "    <tr>\n",
       "      <th>2</th>\n",
       "      <td>0.0</td>\n",
       "      <td>2.0</td>\n",
       "      <td>Banfield, Mr. Frederick James</td>\n",
       "      <td>male</td>\n",
       "      <td>28.000000</td>\n",
       "      <td>0.0</td>\n",
       "      <td>0.0</td>\n",
       "      <td>C.A./SOTON 34068</td>\n",
       "      <td>10.5000</td>\n",
       "      <td>NaN</td>\n",
       "      <td>S</td>\n",
       "      <td>Low</td>\n",
       "      <td>0.0</td>\n",
       "    </tr>\n",
       "    <tr>\n",
       "      <th>3</th>\n",
       "      <td>0.0</td>\n",
       "      <td>2.0</td>\n",
       "      <td>Eitemiller, Mr. George Floyd</td>\n",
       "      <td>male</td>\n",
       "      <td>23.000000</td>\n",
       "      <td>0.0</td>\n",
       "      <td>0.0</td>\n",
       "      <td>29751</td>\n",
       "      <td>13.0000</td>\n",
       "      <td>NaN</td>\n",
       "      <td>S</td>\n",
       "      <td>Low</td>\n",
       "      <td>0.0</td>\n",
       "    </tr>\n",
       "    <tr>\n",
       "      <th>4</th>\n",
       "      <td>1.0</td>\n",
       "      <td>1.0</td>\n",
       "      <td>Longley, Miss. Gretchen Fiske</td>\n",
       "      <td>female</td>\n",
       "      <td>21.000000</td>\n",
       "      <td>0.0</td>\n",
       "      <td>0.0</td>\n",
       "      <td>13502</td>\n",
       "      <td>77.9583</td>\n",
       "      <td>D9</td>\n",
       "      <td>S</td>\n",
       "      <td>High</td>\n",
       "      <td>0.0</td>\n",
       "    </tr>\n",
       "    <tr>\n",
       "      <th>...</th>\n",
       "      <td>...</td>\n",
       "      <td>...</td>\n",
       "      <td>...</td>\n",
       "      <td>...</td>\n",
       "      <td>...</td>\n",
       "      <td>...</td>\n",
       "      <td>...</td>\n",
       "      <td>...</td>\n",
       "      <td>...</td>\n",
       "      <td>...</td>\n",
       "      <td>...</td>\n",
       "      <td>...</td>\n",
       "      <td>...</td>\n",
       "    </tr>\n",
       "    <tr>\n",
       "      <th>1304</th>\n",
       "      <td>1.0</td>\n",
       "      <td>1.0</td>\n",
       "      <td>Shutes, Miss. Elizabeth W</td>\n",
       "      <td>female</td>\n",
       "      <td>40.000000</td>\n",
       "      <td>0.0</td>\n",
       "      <td>0.0</td>\n",
       "      <td>PC 17582</td>\n",
       "      <td>153.4625</td>\n",
       "      <td>C125</td>\n",
       "      <td>S</td>\n",
       "      <td>High</td>\n",
       "      <td>0.0</td>\n",
       "    </tr>\n",
       "    <tr>\n",
       "      <th>1305</th>\n",
       "      <td>0.0</td>\n",
       "      <td>3.0</td>\n",
       "      <td>Scanlan, Mr. James</td>\n",
       "      <td>male</td>\n",
       "      <td>27.504702</td>\n",
       "      <td>0.0</td>\n",
       "      <td>0.0</td>\n",
       "      <td>36209</td>\n",
       "      <td>7.7250</td>\n",
       "      <td>NaN</td>\n",
       "      <td>Q</td>\n",
       "      <td>Low</td>\n",
       "      <td>0.0</td>\n",
       "    </tr>\n",
       "    <tr>\n",
       "      <th>1306</th>\n",
       "      <td>1.0</td>\n",
       "      <td>2.0</td>\n",
       "      <td>Richards, Mrs. Sidney (Emily Hocking)</td>\n",
       "      <td>female</td>\n",
       "      <td>24.000000</td>\n",
       "      <td>2.0</td>\n",
       "      <td>3.0</td>\n",
       "      <td>29106</td>\n",
       "      <td>18.7500</td>\n",
       "      <td>NaN</td>\n",
       "      <td>S</td>\n",
       "      <td>Low</td>\n",
       "      <td>5.0</td>\n",
       "    </tr>\n",
       "    <tr>\n",
       "      <th>1307</th>\n",
       "      <td>1.0</td>\n",
       "      <td>1.0</td>\n",
       "      <td>Greenfield, Mr. William Bertram</td>\n",
       "      <td>male</td>\n",
       "      <td>23.000000</td>\n",
       "      <td>0.0</td>\n",
       "      <td>1.0</td>\n",
       "      <td>PC 17759</td>\n",
       "      <td>63.3583</td>\n",
       "      <td>D10 D12</td>\n",
       "      <td>C</td>\n",
       "      <td>High</td>\n",
       "      <td>1.0</td>\n",
       "    </tr>\n",
       "    <tr>\n",
       "      <th>1308</th>\n",
       "      <td>1.0</td>\n",
       "      <td>1.0</td>\n",
       "      <td>Andrews, Miss. Kornelia Theodosia</td>\n",
       "      <td>female</td>\n",
       "      <td>63.000000</td>\n",
       "      <td>1.0</td>\n",
       "      <td>0.0</td>\n",
       "      <td>13502</td>\n",
       "      <td>77.9583</td>\n",
       "      <td>D7</td>\n",
       "      <td>S</td>\n",
       "      <td>High</td>\n",
       "      <td>1.0</td>\n",
       "    </tr>\n",
       "  </tbody>\n",
       "</table>\n",
       "<p>1306 rows × 13 columns</p>\n",
       "</div>"
      ],
      "text/plain": [
       "      Survived  Pclass                                   Name     Sex  \\\n",
       "0          0.0     3.0                      Boulos, Mr. Hanna    male   \n",
       "1          1.0     3.0                de Mulder, Mr. Theodore    male   \n",
       "2          0.0     2.0          Banfield, Mr. Frederick James    male   \n",
       "3          0.0     2.0           Eitemiller, Mr. George Floyd    male   \n",
       "4          1.0     1.0          Longley, Miss. Gretchen Fiske  female   \n",
       "...        ...     ...                                    ...     ...   \n",
       "1304       1.0     1.0              Shutes, Miss. Elizabeth W  female   \n",
       "1305       0.0     3.0                     Scanlan, Mr. James    male   \n",
       "1306       1.0     2.0  Richards, Mrs. Sidney (Emily Hocking)  female   \n",
       "1307       1.0     1.0        Greenfield, Mr. William Bertram    male   \n",
       "1308       1.0     1.0      Andrews, Miss. Kornelia Theodosia  female   \n",
       "\n",
       "            Age  SibSp  Parch            Ticket      Fare    Cabin Embarked  \\\n",
       "0     27.504702    0.0    0.0              2664    7.2250      NaN        C   \n",
       "1     30.000000    0.0    0.0            345774    9.5000      NaN        S   \n",
       "2     28.000000    0.0    0.0  C.A./SOTON 34068   10.5000      NaN        S   \n",
       "3     23.000000    0.0    0.0             29751   13.0000      NaN        S   \n",
       "4     21.000000    0.0    0.0             13502   77.9583       D9        S   \n",
       "...         ...    ...    ...               ...       ...      ...      ...   \n",
       "1304  40.000000    0.0    0.0          PC 17582  153.4625     C125        S   \n",
       "1305  27.504702    0.0    0.0             36209    7.7250      NaN        Q   \n",
       "1306  24.000000    2.0    3.0             29106   18.7500      NaN        S   \n",
       "1307  23.000000    0.0    1.0          PC 17759   63.3583  D10 D12        C   \n",
       "1308  63.000000    1.0    0.0             13502   77.9583       D7        S   \n",
       "\n",
       "     Fare_Category  Family  \n",
       "0              Low     0.0  \n",
       "1              Low     0.0  \n",
       "2              Low     0.0  \n",
       "3              Low     0.0  \n",
       "4             High     0.0  \n",
       "...            ...     ...  \n",
       "1304          High     0.0  \n",
       "1305           Low     0.0  \n",
       "1306           Low     5.0  \n",
       "1307          High     1.0  \n",
       "1308          High     1.0  \n",
       "\n",
       "[1306 rows x 13 columns]"
      ]
     },
     "execution_count": 307,
     "metadata": {},
     "output_type": "execute_result"
    }
   ],
   "source": [
    "df"
   ]
  },
  {
   "cell_type": "code",
   "execution_count": 308,
   "id": "627c901d",
   "metadata": {},
   "outputs": [],
   "source": [
    "mother = []\n",
    "for i,row in df.iterrows():\n",
    "    \n",
    "    if row['Sex'] == 'female' and\\\n",
    "       row['Age'] >= 18       and\\\n",
    "        \"Mrs.\" in row['Name'] and\\\n",
    "        row['Parch'] > 1:\n",
    "            \n",
    "        mother.append(1)\n",
    "    \n",
    "    else: mother.append(0)\n",
    "        \n",
    "df['isMother'] = mother "
   ]
  },
  {
   "cell_type": "code",
   "execution_count": 309,
   "id": "d311c35f",
   "metadata": {},
   "outputs": [
    {
     "data": {
      "text/html": [
       "<div>\n",
       "<style scoped>\n",
       "    .dataframe tbody tr th:only-of-type {\n",
       "        vertical-align: middle;\n",
       "    }\n",
       "\n",
       "    .dataframe tbody tr th {\n",
       "        vertical-align: top;\n",
       "    }\n",
       "\n",
       "    .dataframe thead th {\n",
       "        text-align: right;\n",
       "    }\n",
       "</style>\n",
       "<table border=\"1\" class=\"dataframe\">\n",
       "  <thead>\n",
       "    <tr style=\"text-align: right;\">\n",
       "      <th></th>\n",
       "      <th>Survived</th>\n",
       "      <th>Pclass</th>\n",
       "      <th>Name</th>\n",
       "      <th>Sex</th>\n",
       "      <th>Age</th>\n",
       "      <th>SibSp</th>\n",
       "      <th>Parch</th>\n",
       "      <th>Ticket</th>\n",
       "      <th>Fare</th>\n",
       "      <th>Cabin</th>\n",
       "      <th>Embarked</th>\n",
       "      <th>Fare_Category</th>\n",
       "      <th>Family</th>\n",
       "      <th>isMother</th>\n",
       "    </tr>\n",
       "  </thead>\n",
       "  <tbody>\n",
       "    <tr>\n",
       "      <th>0</th>\n",
       "      <td>0.0</td>\n",
       "      <td>3.0</td>\n",
       "      <td>Boulos, Mr. Hanna</td>\n",
       "      <td>male</td>\n",
       "      <td>27.504702</td>\n",
       "      <td>0.0</td>\n",
       "      <td>0.0</td>\n",
       "      <td>2664</td>\n",
       "      <td>7.2250</td>\n",
       "      <td>NaN</td>\n",
       "      <td>C</td>\n",
       "      <td>Low</td>\n",
       "      <td>0.0</td>\n",
       "      <td>0</td>\n",
       "    </tr>\n",
       "    <tr>\n",
       "      <th>1</th>\n",
       "      <td>1.0</td>\n",
       "      <td>3.0</td>\n",
       "      <td>de Mulder, Mr. Theodore</td>\n",
       "      <td>male</td>\n",
       "      <td>30.000000</td>\n",
       "      <td>0.0</td>\n",
       "      <td>0.0</td>\n",
       "      <td>345774</td>\n",
       "      <td>9.5000</td>\n",
       "      <td>NaN</td>\n",
       "      <td>S</td>\n",
       "      <td>Low</td>\n",
       "      <td>0.0</td>\n",
       "      <td>0</td>\n",
       "    </tr>\n",
       "    <tr>\n",
       "      <th>2</th>\n",
       "      <td>0.0</td>\n",
       "      <td>2.0</td>\n",
       "      <td>Banfield, Mr. Frederick James</td>\n",
       "      <td>male</td>\n",
       "      <td>28.000000</td>\n",
       "      <td>0.0</td>\n",
       "      <td>0.0</td>\n",
       "      <td>C.A./SOTON 34068</td>\n",
       "      <td>10.5000</td>\n",
       "      <td>NaN</td>\n",
       "      <td>S</td>\n",
       "      <td>Low</td>\n",
       "      <td>0.0</td>\n",
       "      <td>0</td>\n",
       "    </tr>\n",
       "    <tr>\n",
       "      <th>3</th>\n",
       "      <td>0.0</td>\n",
       "      <td>2.0</td>\n",
       "      <td>Eitemiller, Mr. George Floyd</td>\n",
       "      <td>male</td>\n",
       "      <td>23.000000</td>\n",
       "      <td>0.0</td>\n",
       "      <td>0.0</td>\n",
       "      <td>29751</td>\n",
       "      <td>13.0000</td>\n",
       "      <td>NaN</td>\n",
       "      <td>S</td>\n",
       "      <td>Low</td>\n",
       "      <td>0.0</td>\n",
       "      <td>0</td>\n",
       "    </tr>\n",
       "    <tr>\n",
       "      <th>4</th>\n",
       "      <td>1.0</td>\n",
       "      <td>1.0</td>\n",
       "      <td>Longley, Miss. Gretchen Fiske</td>\n",
       "      <td>female</td>\n",
       "      <td>21.000000</td>\n",
       "      <td>0.0</td>\n",
       "      <td>0.0</td>\n",
       "      <td>13502</td>\n",
       "      <td>77.9583</td>\n",
       "      <td>D9</td>\n",
       "      <td>S</td>\n",
       "      <td>High</td>\n",
       "      <td>0.0</td>\n",
       "      <td>0</td>\n",
       "    </tr>\n",
       "    <tr>\n",
       "      <th>...</th>\n",
       "      <td>...</td>\n",
       "      <td>...</td>\n",
       "      <td>...</td>\n",
       "      <td>...</td>\n",
       "      <td>...</td>\n",
       "      <td>...</td>\n",
       "      <td>...</td>\n",
       "      <td>...</td>\n",
       "      <td>...</td>\n",
       "      <td>...</td>\n",
       "      <td>...</td>\n",
       "      <td>...</td>\n",
       "      <td>...</td>\n",
       "      <td>...</td>\n",
       "    </tr>\n",
       "    <tr>\n",
       "      <th>1304</th>\n",
       "      <td>1.0</td>\n",
       "      <td>1.0</td>\n",
       "      <td>Shutes, Miss. Elizabeth W</td>\n",
       "      <td>female</td>\n",
       "      <td>40.000000</td>\n",
       "      <td>0.0</td>\n",
       "      <td>0.0</td>\n",
       "      <td>PC 17582</td>\n",
       "      <td>153.4625</td>\n",
       "      <td>C125</td>\n",
       "      <td>S</td>\n",
       "      <td>High</td>\n",
       "      <td>0.0</td>\n",
       "      <td>0</td>\n",
       "    </tr>\n",
       "    <tr>\n",
       "      <th>1305</th>\n",
       "      <td>0.0</td>\n",
       "      <td>3.0</td>\n",
       "      <td>Scanlan, Mr. James</td>\n",
       "      <td>male</td>\n",
       "      <td>27.504702</td>\n",
       "      <td>0.0</td>\n",
       "      <td>0.0</td>\n",
       "      <td>36209</td>\n",
       "      <td>7.7250</td>\n",
       "      <td>NaN</td>\n",
       "      <td>Q</td>\n",
       "      <td>Low</td>\n",
       "      <td>0.0</td>\n",
       "      <td>0</td>\n",
       "    </tr>\n",
       "    <tr>\n",
       "      <th>1306</th>\n",
       "      <td>1.0</td>\n",
       "      <td>2.0</td>\n",
       "      <td>Richards, Mrs. Sidney (Emily Hocking)</td>\n",
       "      <td>female</td>\n",
       "      <td>24.000000</td>\n",
       "      <td>2.0</td>\n",
       "      <td>3.0</td>\n",
       "      <td>29106</td>\n",
       "      <td>18.7500</td>\n",
       "      <td>NaN</td>\n",
       "      <td>S</td>\n",
       "      <td>Low</td>\n",
       "      <td>5.0</td>\n",
       "      <td>1</td>\n",
       "    </tr>\n",
       "    <tr>\n",
       "      <th>1307</th>\n",
       "      <td>1.0</td>\n",
       "      <td>1.0</td>\n",
       "      <td>Greenfield, Mr. William Bertram</td>\n",
       "      <td>male</td>\n",
       "      <td>23.000000</td>\n",
       "      <td>0.0</td>\n",
       "      <td>1.0</td>\n",
       "      <td>PC 17759</td>\n",
       "      <td>63.3583</td>\n",
       "      <td>D10 D12</td>\n",
       "      <td>C</td>\n",
       "      <td>High</td>\n",
       "      <td>1.0</td>\n",
       "      <td>0</td>\n",
       "    </tr>\n",
       "    <tr>\n",
       "      <th>1308</th>\n",
       "      <td>1.0</td>\n",
       "      <td>1.0</td>\n",
       "      <td>Andrews, Miss. Kornelia Theodosia</td>\n",
       "      <td>female</td>\n",
       "      <td>63.000000</td>\n",
       "      <td>1.0</td>\n",
       "      <td>0.0</td>\n",
       "      <td>13502</td>\n",
       "      <td>77.9583</td>\n",
       "      <td>D7</td>\n",
       "      <td>S</td>\n",
       "      <td>High</td>\n",
       "      <td>1.0</td>\n",
       "      <td>0</td>\n",
       "    </tr>\n",
       "  </tbody>\n",
       "</table>\n",
       "<p>1306 rows × 14 columns</p>\n",
       "</div>"
      ],
      "text/plain": [
       "      Survived  Pclass                                   Name     Sex  \\\n",
       "0          0.0     3.0                      Boulos, Mr. Hanna    male   \n",
       "1          1.0     3.0                de Mulder, Mr. Theodore    male   \n",
       "2          0.0     2.0          Banfield, Mr. Frederick James    male   \n",
       "3          0.0     2.0           Eitemiller, Mr. George Floyd    male   \n",
       "4          1.0     1.0          Longley, Miss. Gretchen Fiske  female   \n",
       "...        ...     ...                                    ...     ...   \n",
       "1304       1.0     1.0              Shutes, Miss. Elizabeth W  female   \n",
       "1305       0.0     3.0                     Scanlan, Mr. James    male   \n",
       "1306       1.0     2.0  Richards, Mrs. Sidney (Emily Hocking)  female   \n",
       "1307       1.0     1.0        Greenfield, Mr. William Bertram    male   \n",
       "1308       1.0     1.0      Andrews, Miss. Kornelia Theodosia  female   \n",
       "\n",
       "            Age  SibSp  Parch            Ticket      Fare    Cabin Embarked  \\\n",
       "0     27.504702    0.0    0.0              2664    7.2250      NaN        C   \n",
       "1     30.000000    0.0    0.0            345774    9.5000      NaN        S   \n",
       "2     28.000000    0.0    0.0  C.A./SOTON 34068   10.5000      NaN        S   \n",
       "3     23.000000    0.0    0.0             29751   13.0000      NaN        S   \n",
       "4     21.000000    0.0    0.0             13502   77.9583       D9        S   \n",
       "...         ...    ...    ...               ...       ...      ...      ...   \n",
       "1304  40.000000    0.0    0.0          PC 17582  153.4625     C125        S   \n",
       "1305  27.504702    0.0    0.0             36209    7.7250      NaN        Q   \n",
       "1306  24.000000    2.0    3.0             29106   18.7500      NaN        S   \n",
       "1307  23.000000    0.0    1.0          PC 17759   63.3583  D10 D12        C   \n",
       "1308  63.000000    1.0    0.0             13502   77.9583       D7        S   \n",
       "\n",
       "     Fare_Category  Family  isMother  \n",
       "0              Low     0.0         0  \n",
       "1              Low     0.0         0  \n",
       "2              Low     0.0         0  \n",
       "3              Low     0.0         0  \n",
       "4             High     0.0         0  \n",
       "...            ...     ...       ...  \n",
       "1304          High     0.0         0  \n",
       "1305           Low     0.0         0  \n",
       "1306           Low     5.0         1  \n",
       "1307          High     1.0         0  \n",
       "1308          High     1.0         0  \n",
       "\n",
       "[1306 rows x 14 columns]"
      ]
     },
     "execution_count": 309,
     "metadata": {},
     "output_type": "execute_result"
    }
   ],
   "source": [
    "df"
   ]
  },
  {
   "cell_type": "markdown",
   "id": "f880fc2b",
   "metadata": {},
   "source": [
    "## Final cleaning"
   ]
  },
  {
   "cell_type": "markdown",
   "id": "53045257",
   "metadata": {},
   "source": [
    "### Removing SibSp and Parch"
   ]
  },
  {
   "cell_type": "code",
   "execution_count": 310,
   "id": "95fb2bc8",
   "metadata": {},
   "outputs": [
    {
     "data": {
      "text/html": [
       "<div>\n",
       "<style scoped>\n",
       "    .dataframe tbody tr th:only-of-type {\n",
       "        vertical-align: middle;\n",
       "    }\n",
       "\n",
       "    .dataframe tbody tr th {\n",
       "        vertical-align: top;\n",
       "    }\n",
       "\n",
       "    .dataframe thead th {\n",
       "        text-align: right;\n",
       "    }\n",
       "</style>\n",
       "<table border=\"1\" class=\"dataframe\">\n",
       "  <thead>\n",
       "    <tr style=\"text-align: right;\">\n",
       "      <th></th>\n",
       "      <th>Survived</th>\n",
       "      <th>Pclass</th>\n",
       "      <th>Name</th>\n",
       "      <th>Sex</th>\n",
       "      <th>Age</th>\n",
       "      <th>Ticket</th>\n",
       "      <th>Fare</th>\n",
       "      <th>Cabin</th>\n",
       "      <th>Embarked</th>\n",
       "      <th>Fare_Category</th>\n",
       "      <th>Family</th>\n",
       "      <th>isMother</th>\n",
       "    </tr>\n",
       "  </thead>\n",
       "  <tbody>\n",
       "    <tr>\n",
       "      <th>0</th>\n",
       "      <td>0.0</td>\n",
       "      <td>3.0</td>\n",
       "      <td>Boulos, Mr. Hanna</td>\n",
       "      <td>male</td>\n",
       "      <td>27.504702</td>\n",
       "      <td>2664</td>\n",
       "      <td>7.2250</td>\n",
       "      <td>NaN</td>\n",
       "      <td>C</td>\n",
       "      <td>Low</td>\n",
       "      <td>0.0</td>\n",
       "      <td>0</td>\n",
       "    </tr>\n",
       "    <tr>\n",
       "      <th>1</th>\n",
       "      <td>1.0</td>\n",
       "      <td>3.0</td>\n",
       "      <td>de Mulder, Mr. Theodore</td>\n",
       "      <td>male</td>\n",
       "      <td>30.000000</td>\n",
       "      <td>345774</td>\n",
       "      <td>9.5000</td>\n",
       "      <td>NaN</td>\n",
       "      <td>S</td>\n",
       "      <td>Low</td>\n",
       "      <td>0.0</td>\n",
       "      <td>0</td>\n",
       "    </tr>\n",
       "    <tr>\n",
       "      <th>2</th>\n",
       "      <td>0.0</td>\n",
       "      <td>2.0</td>\n",
       "      <td>Banfield, Mr. Frederick James</td>\n",
       "      <td>male</td>\n",
       "      <td>28.000000</td>\n",
       "      <td>C.A./SOTON 34068</td>\n",
       "      <td>10.5000</td>\n",
       "      <td>NaN</td>\n",
       "      <td>S</td>\n",
       "      <td>Low</td>\n",
       "      <td>0.0</td>\n",
       "      <td>0</td>\n",
       "    </tr>\n",
       "    <tr>\n",
       "      <th>3</th>\n",
       "      <td>0.0</td>\n",
       "      <td>2.0</td>\n",
       "      <td>Eitemiller, Mr. George Floyd</td>\n",
       "      <td>male</td>\n",
       "      <td>23.000000</td>\n",
       "      <td>29751</td>\n",
       "      <td>13.0000</td>\n",
       "      <td>NaN</td>\n",
       "      <td>S</td>\n",
       "      <td>Low</td>\n",
       "      <td>0.0</td>\n",
       "      <td>0</td>\n",
       "    </tr>\n",
       "    <tr>\n",
       "      <th>4</th>\n",
       "      <td>1.0</td>\n",
       "      <td>1.0</td>\n",
       "      <td>Longley, Miss. Gretchen Fiske</td>\n",
       "      <td>female</td>\n",
       "      <td>21.000000</td>\n",
       "      <td>13502</td>\n",
       "      <td>77.9583</td>\n",
       "      <td>D9</td>\n",
       "      <td>S</td>\n",
       "      <td>High</td>\n",
       "      <td>0.0</td>\n",
       "      <td>0</td>\n",
       "    </tr>\n",
       "  </tbody>\n",
       "</table>\n",
       "</div>"
      ],
      "text/plain": [
       "   Survived  Pclass                           Name     Sex        Age  \\\n",
       "0       0.0     3.0              Boulos, Mr. Hanna    male  27.504702   \n",
       "1       1.0     3.0        de Mulder, Mr. Theodore    male  30.000000   \n",
       "2       0.0     2.0  Banfield, Mr. Frederick James    male  28.000000   \n",
       "3       0.0     2.0   Eitemiller, Mr. George Floyd    male  23.000000   \n",
       "4       1.0     1.0  Longley, Miss. Gretchen Fiske  female  21.000000   \n",
       "\n",
       "             Ticket     Fare Cabin Embarked Fare_Category  Family  isMother  \n",
       "0              2664   7.2250   NaN        C           Low     0.0         0  \n",
       "1            345774   9.5000   NaN        S           Low     0.0         0  \n",
       "2  C.A./SOTON 34068  10.5000   NaN        S           Low     0.0         0  \n",
       "3             29751  13.0000   NaN        S           Low     0.0         0  \n",
       "4             13502  77.9583    D9        S          High     0.0         0  "
      ]
     },
     "execution_count": 310,
     "metadata": {},
     "output_type": "execute_result"
    }
   ],
   "source": [
    "df = df.drop(columns=['SibSp', 'Parch'])\n",
    "df.head()"
   ]
  },
  {
   "cell_type": "markdown",
   "id": "0d1a8aa8",
   "metadata": {},
   "source": [
    "### Removing Embarked NA values\n",
    "Embarked is only missing once, so we can simply just remove that row."
   ]
  },
  {
   "cell_type": "code",
   "execution_count": 311,
   "id": "293a3d2c",
   "metadata": {},
   "outputs": [
    {
     "data": {
      "text/plain": [
       "0"
      ]
     },
     "execution_count": 311,
     "metadata": {},
     "output_type": "execute_result"
    }
   ],
   "source": [
    "df = df.dropna(subset=['Embarked'])\n",
    "df.Embarked.isna().sum()"
   ]
  },
  {
   "cell_type": "markdown",
   "id": "d466a275",
   "metadata": {},
   "source": [
    "### Removing features\n",
    "Ticket, Fare, Cabin and Name do not encode any information that can help the model predict whether a passenger will survive or not."
   ]
  },
  {
   "cell_type": "code",
   "execution_count": 312,
   "id": "d54e7dd3",
   "metadata": {},
   "outputs": [
    {
     "data": {
      "text/html": [
       "<div>\n",
       "<style scoped>\n",
       "    .dataframe tbody tr th:only-of-type {\n",
       "        vertical-align: middle;\n",
       "    }\n",
       "\n",
       "    .dataframe tbody tr th {\n",
       "        vertical-align: top;\n",
       "    }\n",
       "\n",
       "    .dataframe thead th {\n",
       "        text-align: right;\n",
       "    }\n",
       "</style>\n",
       "<table border=\"1\" class=\"dataframe\">\n",
       "  <thead>\n",
       "    <tr style=\"text-align: right;\">\n",
       "      <th></th>\n",
       "      <th>Survived</th>\n",
       "      <th>Pclass</th>\n",
       "      <th>Sex</th>\n",
       "      <th>Age</th>\n",
       "      <th>Embarked</th>\n",
       "      <th>Fare_Category</th>\n",
       "      <th>Family</th>\n",
       "      <th>isMother</th>\n",
       "    </tr>\n",
       "  </thead>\n",
       "  <tbody>\n",
       "    <tr>\n",
       "      <th>0</th>\n",
       "      <td>0.0</td>\n",
       "      <td>3.0</td>\n",
       "      <td>male</td>\n",
       "      <td>27.504702</td>\n",
       "      <td>C</td>\n",
       "      <td>Low</td>\n",
       "      <td>0.0</td>\n",
       "      <td>0</td>\n",
       "    </tr>\n",
       "    <tr>\n",
       "      <th>1</th>\n",
       "      <td>1.0</td>\n",
       "      <td>3.0</td>\n",
       "      <td>male</td>\n",
       "      <td>30.000000</td>\n",
       "      <td>S</td>\n",
       "      <td>Low</td>\n",
       "      <td>0.0</td>\n",
       "      <td>0</td>\n",
       "    </tr>\n",
       "    <tr>\n",
       "      <th>2</th>\n",
       "      <td>0.0</td>\n",
       "      <td>2.0</td>\n",
       "      <td>male</td>\n",
       "      <td>28.000000</td>\n",
       "      <td>S</td>\n",
       "      <td>Low</td>\n",
       "      <td>0.0</td>\n",
       "      <td>0</td>\n",
       "    </tr>\n",
       "    <tr>\n",
       "      <th>3</th>\n",
       "      <td>0.0</td>\n",
       "      <td>2.0</td>\n",
       "      <td>male</td>\n",
       "      <td>23.000000</td>\n",
       "      <td>S</td>\n",
       "      <td>Low</td>\n",
       "      <td>0.0</td>\n",
       "      <td>0</td>\n",
       "    </tr>\n",
       "    <tr>\n",
       "      <th>4</th>\n",
       "      <td>1.0</td>\n",
       "      <td>1.0</td>\n",
       "      <td>female</td>\n",
       "      <td>21.000000</td>\n",
       "      <td>S</td>\n",
       "      <td>High</td>\n",
       "      <td>0.0</td>\n",
       "      <td>0</td>\n",
       "    </tr>\n",
       "  </tbody>\n",
       "</table>\n",
       "</div>"
      ],
      "text/plain": [
       "   Survived  Pclass     Sex        Age Embarked Fare_Category  Family  \\\n",
       "0       0.0     3.0    male  27.504702        C           Low     0.0   \n",
       "1       1.0     3.0    male  30.000000        S           Low     0.0   \n",
       "2       0.0     2.0    male  28.000000        S           Low     0.0   \n",
       "3       0.0     2.0    male  23.000000        S           Low     0.0   \n",
       "4       1.0     1.0  female  21.000000        S          High     0.0   \n",
       "\n",
       "   isMother  \n",
       "0         0  \n",
       "1         0  \n",
       "2         0  \n",
       "3         0  \n",
       "4         0  "
      ]
     },
     "execution_count": 312,
     "metadata": {},
     "output_type": "execute_result"
    }
   ],
   "source": [
    "df = df.drop(['Ticket', 'Fare', 'Cabin', 'Name'],axis=1)\n",
    "\n",
    "#PassengerId is only found in the Kaggle dataset.\n",
    "try: df = df.drop(columns=['PassengerId']) \n",
    "except Exception as e: pass\n",
    "\n",
    "df.head()"
   ]
  },
  {
   "cell_type": "markdown",
   "id": "3ae1a972",
   "metadata": {},
   "source": [
    "### Constraining float values to be integers"
   ]
  },
  {
   "cell_type": "code",
   "execution_count": 313,
   "id": "fb923b14",
   "metadata": {},
   "outputs": [],
   "source": [
    "df['Age'] = df['Age'].round(0).astype(int)\n",
    "df['Family'] = df['Family'].round(0).astype(int)\n",
    "df['Pclass'] = df['Pclass'].round(0).astype(int)"
   ]
  },
  {
   "cell_type": "code",
   "execution_count": 314,
   "id": "9fb30e31",
   "metadata": {},
   "outputs": [],
   "source": [
    "try:\n",
    "    df['Survived'] = df['Survived'].round(0).astype(int)\n",
    "except Exception as e:\n",
    "    print('Skipping...')"
   ]
  },
  {
   "cell_type": "markdown",
   "id": "4b1e8899",
   "metadata": {},
   "source": [
    "### Turning categorical values into numbers"
   ]
  },
  {
   "cell_type": "code",
   "execution_count": 315,
   "id": "84253534",
   "metadata": {},
   "outputs": [],
   "source": [
    "df['Sex'] = df['Sex'].replace(['male','female'],[0,1])\n",
    "df['Embarked'] = df['Embarked'].replace(['C','S','Q'],[0,1,2])\n",
    "df['Fare_Category'] = df['Fare_Category'].replace(['Low','Mid','High'],[0,1,2])"
   ]
  },
  {
   "cell_type": "markdown",
   "id": "87c31c08",
   "metadata": {},
   "source": [
    "### One-hot encoding categorical variables\n",
    "It is general practice to one-hot encode categorical variables, as it makes the process easier during training."
   ]
  },
  {
   "cell_type": "code",
   "execution_count": 316,
   "id": "e20376d9",
   "metadata": {},
   "outputs": [
    {
     "data": {
      "text/html": [
       "<div>\n",
       "<style scoped>\n",
       "    .dataframe tbody tr th:only-of-type {\n",
       "        vertical-align: middle;\n",
       "    }\n",
       "\n",
       "    .dataframe tbody tr th {\n",
       "        vertical-align: top;\n",
       "    }\n",
       "\n",
       "    .dataframe thead th {\n",
       "        text-align: right;\n",
       "    }\n",
       "</style>\n",
       "<table border=\"1\" class=\"dataframe\">\n",
       "  <thead>\n",
       "    <tr style=\"text-align: right;\">\n",
       "      <th></th>\n",
       "      <th>Survived</th>\n",
       "      <th>Sex</th>\n",
       "      <th>Age</th>\n",
       "      <th>Family</th>\n",
       "      <th>isMother</th>\n",
       "      <th>Pclass_1</th>\n",
       "      <th>Pclass_2</th>\n",
       "      <th>Embarked_1</th>\n",
       "      <th>Embarked_2</th>\n",
       "      <th>Fare_Category_1</th>\n",
       "      <th>Fare_Category_2</th>\n",
       "    </tr>\n",
       "  </thead>\n",
       "  <tbody>\n",
       "    <tr>\n",
       "      <th>0</th>\n",
       "      <td>0</td>\n",
       "      <td>0</td>\n",
       "      <td>28</td>\n",
       "      <td>0</td>\n",
       "      <td>0</td>\n",
       "      <td>0</td>\n",
       "      <td>0</td>\n",
       "      <td>1</td>\n",
       "      <td>0</td>\n",
       "      <td>1</td>\n",
       "      <td>0</td>\n",
       "    </tr>\n",
       "    <tr>\n",
       "      <th>1</th>\n",
       "      <td>1</td>\n",
       "      <td>0</td>\n",
       "      <td>30</td>\n",
       "      <td>0</td>\n",
       "      <td>0</td>\n",
       "      <td>0</td>\n",
       "      <td>0</td>\n",
       "      <td>0</td>\n",
       "      <td>1</td>\n",
       "      <td>1</td>\n",
       "      <td>0</td>\n",
       "    </tr>\n",
       "    <tr>\n",
       "      <th>2</th>\n",
       "      <td>0</td>\n",
       "      <td>0</td>\n",
       "      <td>28</td>\n",
       "      <td>0</td>\n",
       "      <td>0</td>\n",
       "      <td>0</td>\n",
       "      <td>1</td>\n",
       "      <td>0</td>\n",
       "      <td>1</td>\n",
       "      <td>1</td>\n",
       "      <td>0</td>\n",
       "    </tr>\n",
       "    <tr>\n",
       "      <th>3</th>\n",
       "      <td>0</td>\n",
       "      <td>0</td>\n",
       "      <td>23</td>\n",
       "      <td>0</td>\n",
       "      <td>0</td>\n",
       "      <td>0</td>\n",
       "      <td>1</td>\n",
       "      <td>0</td>\n",
       "      <td>1</td>\n",
       "      <td>1</td>\n",
       "      <td>0</td>\n",
       "    </tr>\n",
       "    <tr>\n",
       "      <th>4</th>\n",
       "      <td>1</td>\n",
       "      <td>1</td>\n",
       "      <td>21</td>\n",
       "      <td>0</td>\n",
       "      <td>0</td>\n",
       "      <td>1</td>\n",
       "      <td>0</td>\n",
       "      <td>0</td>\n",
       "      <td>1</td>\n",
       "      <td>0</td>\n",
       "      <td>0</td>\n",
       "    </tr>\n",
       "    <tr>\n",
       "      <th>...</th>\n",
       "      <td>...</td>\n",
       "      <td>...</td>\n",
       "      <td>...</td>\n",
       "      <td>...</td>\n",
       "      <td>...</td>\n",
       "      <td>...</td>\n",
       "      <td>...</td>\n",
       "      <td>...</td>\n",
       "      <td>...</td>\n",
       "      <td>...</td>\n",
       "      <td>...</td>\n",
       "    </tr>\n",
       "    <tr>\n",
       "      <th>1304</th>\n",
       "      <td>1</td>\n",
       "      <td>1</td>\n",
       "      <td>40</td>\n",
       "      <td>0</td>\n",
       "      <td>0</td>\n",
       "      <td>1</td>\n",
       "      <td>0</td>\n",
       "      <td>0</td>\n",
       "      <td>1</td>\n",
       "      <td>0</td>\n",
       "      <td>0</td>\n",
       "    </tr>\n",
       "    <tr>\n",
       "      <th>1305</th>\n",
       "      <td>0</td>\n",
       "      <td>0</td>\n",
       "      <td>28</td>\n",
       "      <td>0</td>\n",
       "      <td>0</td>\n",
       "      <td>0</td>\n",
       "      <td>0</td>\n",
       "      <td>0</td>\n",
       "      <td>0</td>\n",
       "      <td>1</td>\n",
       "      <td>0</td>\n",
       "    </tr>\n",
       "    <tr>\n",
       "      <th>1306</th>\n",
       "      <td>1</td>\n",
       "      <td>1</td>\n",
       "      <td>24</td>\n",
       "      <td>5</td>\n",
       "      <td>1</td>\n",
       "      <td>0</td>\n",
       "      <td>1</td>\n",
       "      <td>0</td>\n",
       "      <td>1</td>\n",
       "      <td>1</td>\n",
       "      <td>0</td>\n",
       "    </tr>\n",
       "    <tr>\n",
       "      <th>1307</th>\n",
       "      <td>1</td>\n",
       "      <td>0</td>\n",
       "      <td>23</td>\n",
       "      <td>1</td>\n",
       "      <td>0</td>\n",
       "      <td>1</td>\n",
       "      <td>0</td>\n",
       "      <td>1</td>\n",
       "      <td>0</td>\n",
       "      <td>0</td>\n",
       "      <td>0</td>\n",
       "    </tr>\n",
       "    <tr>\n",
       "      <th>1308</th>\n",
       "      <td>1</td>\n",
       "      <td>1</td>\n",
       "      <td>63</td>\n",
       "      <td>1</td>\n",
       "      <td>0</td>\n",
       "      <td>1</td>\n",
       "      <td>0</td>\n",
       "      <td>0</td>\n",
       "      <td>1</td>\n",
       "      <td>0</td>\n",
       "      <td>0</td>\n",
       "    </tr>\n",
       "  </tbody>\n",
       "</table>\n",
       "<p>1306 rows × 11 columns</p>\n",
       "</div>"
      ],
      "text/plain": [
       "      Survived  Sex  Age  Family  isMother  Pclass_1  Pclass_2  Embarked_1  \\\n",
       "0            0    0   28       0         0         0         0           1   \n",
       "1            1    0   30       0         0         0         0           0   \n",
       "2            0    0   28       0         0         0         1           0   \n",
       "3            0    0   23       0         0         0         1           0   \n",
       "4            1    1   21       0         0         1         0           0   \n",
       "...        ...  ...  ...     ...       ...       ...       ...         ...   \n",
       "1304         1    1   40       0         0         1         0           0   \n",
       "1305         0    0   28       0         0         0         0           0   \n",
       "1306         1    1   24       5         1         0         1           0   \n",
       "1307         1    0   23       1         0         1         0           1   \n",
       "1308         1    1   63       1         0         1         0           0   \n",
       "\n",
       "      Embarked_2  Fare_Category_1  Fare_Category_2  \n",
       "0              0                1                0  \n",
       "1              1                1                0  \n",
       "2              1                1                0  \n",
       "3              1                1                0  \n",
       "4              1                0                0  \n",
       "...          ...              ...              ...  \n",
       "1304           1                0                0  \n",
       "1305           0                1                0  \n",
       "1306           1                1                0  \n",
       "1307           0                0                0  \n",
       "1308           1                0                0  \n",
       "\n",
       "[1306 rows x 11 columns]"
      ]
     },
     "execution_count": 316,
     "metadata": {},
     "output_type": "execute_result"
    }
   ],
   "source": [
    "#PClass\n",
    "one_hot_Pclass = pd.get_dummies(df.Pclass)\n",
    "one_hot_Pclass.columns =['Pclass_1','Pclass_2','Pclass_3']\n",
    "one_hot_Pclass = one_hot_Pclass.drop(['Pclass_3'],axis=1)\n",
    "\n",
    "#Embarked\n",
    "one_hot_Embarked = pd.get_dummies(df.Embarked)\n",
    "one_hot_Embarked.columns =['Embarked_1','Embarked_2','Embarked_3']\n",
    "one_hot_Embarked = one_hot_Embarked.drop(['Embarked_3'],axis=1)\n",
    "\n",
    "# #Fare_Category\n",
    "one_hot_Fare_Category = pd.get_dummies(df.Fare_Category)\n",
    "one_hot_Fare_Category.columns =['Fare_Category_1','Fare_Category_2','Fare_Category_3']\n",
    "one_hot_Fare_Category = one_hot_Fare_Category.drop(['Fare_Category_3'],axis=1)\n",
    "\n",
    "df = pd.concat([df,one_hot_Pclass, one_hot_Embarked, one_hot_Fare_Category],axis=1).drop(['Pclass','Embarked','Fare_Category'],axis=1)\n",
    "\n",
    "df"
   ]
  },
  {
   "cell_type": "markdown",
   "id": "bb1b7d20",
   "metadata": {},
   "source": [
    "### Saving"
   ]
  },
  {
   "cell_type": "markdown",
   "id": "44886757",
   "metadata": {},
   "source": [
    "The feature-engineered dataset will be split into training and testing partitions."
   ]
  },
  {
   "cell_type": "code",
   "execution_count": 317,
   "id": "92942e27",
   "metadata": {},
   "outputs": [],
   "source": [
    "df.to_csv(os.path.join('data','Variant 1','titanic_cleaned.csv'), index=False)\n",
    "# df.to_csv(os.path.join('data','Variant 1','kaggle_train_cleaned.csv'), index=False)\n",
    "# df.to_csv(os.path.join('data','Variant 1','kaggle_test_cleaned.csv'), index=False)"
   ]
  }
 ],
 "metadata": {
  "kernelspec": {
   "display_name": "gapt-venv",
   "language": "python",
   "name": "gapt-venv"
  },
  "language_info": {
   "codemirror_mode": {
    "name": "ipython",
    "version": 3
   },
   "file_extension": ".py",
   "mimetype": "text/x-python",
   "name": "python",
   "nbconvert_exporter": "python",
   "pygments_lexer": "ipython3",
   "version": "3.7.11"
  }
 },
 "nbformat": 4,
 "nbformat_minor": 5
}
