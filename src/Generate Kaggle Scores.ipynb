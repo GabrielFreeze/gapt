{
 "cells": [
  {
   "cell_type": "markdown",
   "metadata": {},
   "source": [
    "# Building the models\n",
    "## Using the kaggle dataset"
   ]
  },
  {
   "cell_type": "code",
   "execution_count": 6,
   "metadata": {},
   "outputs": [],
   "source": [
    "import pandas as pd\n",
    "import os\n",
    "from sklearn.model_selection import train_test_split\n",
    "from sklearn.metrics import accuracy_score\n",
    "from sklearn.ensemble import RandomForestClassifier\n",
    "from sklearn import svm\n",
    "from sklearn.tree import DecisionTreeClassifier\n",
    "from sklearn.linear_model import LogisticRegression\n",
    "from sklearn.naive_bayes import GaussianNB"
   ]
  },
  {
   "cell_type": "code",
   "execution_count": 7,
   "metadata": {},
   "outputs": [],
   "source": [
    "training1 = pd.read_csv(os.path.join('..','data','Variant 1','kaggle_train_cleaned.csv'))\n",
    "testing1  = pd.read_csv(os.path.join('..','data','Variant 1','kaggle_test_cleaned.csv' ))\n",
    "training2 = pd.read_csv(os.path.join('..','data','Variant 2','kaggle_train_cleaned.csv'))\n",
    "testing2  = pd.read_csv(os.path.join('..','data','Variant 2','kaggle_test_cleaned.csv' ))\n",
    "training3 = pd.read_csv(os.path.join('..','data','Variant 3','kaggle_train_cleaned.csv'))\n",
    "testing3  = pd.read_csv(os.path.join('..','data','Variant 3','kaggle_test_cleaned.csv' ))\n",
    "data = [[training1,testing1],[training2,testing2],[training3,testing3]]"
   ]
  },
  {
   "cell_type": "code",
   "execution_count": null,
   "metadata": {
    "scrolled": true
   },
   "outputs": [],
   "source": [
    "i = 1\n",
    "for dataset in data:\n",
    "    x = dataset[0].drop([\"PassengerId\",\"Survived\"],axis=1)\n",
    "    \n",
    "    y = dataset[0][\"Survived\"]\n",
    "\n",
    "    testing_passenger_ids = dataset[1][\"PassengerId\"]\n",
    "    x_test = dataset[1].drop(\"PassengerId\",axis=1)\n",
    "    \n",
    "    #random forest\n",
    "    random_forest = RandomForestClassifier().fit(x,y)\n",
    "    preds = random_forest.predict(x_test)\n",
    "    sub = pd.DataFrame({\"PassengerId\":testing_passenger_ids,\"Survived\":preds})\n",
    "    sub.to_csv(os.path.join('..','data','Kaggle Submissions','random_forest_')+str(i)+\".csv\",index=False)\n",
    "    \n",
    "    #support vector machine\n",
    "    svm_clf = svm.SVC(kernel='linear').fit(x,y)\n",
    "    preds = svm_clf.predict(x_test)\n",
    "    sub = pd.DataFrame({\"PassengerId\":testing_passenger_ids,\"Survived\":preds})\n",
    "    sub.to_csv(os.path.join('..','data','Kaggle Submissions','svm_')+str(i)+\".csv\",index=False)\n",
    "    \n",
    "    #naive bayes\n",
    "    naive_bayes = GaussianNB().fit(x,y)\n",
    "    preds = naive_bayes.predict(x_test)\n",
    "    sub = pd.DataFrame({\"PassengerId\":testing_passenger_ids,\"Survived\":preds})\n",
    "    sub.to_csv(os.path.join('..','data','Kaggle Submissions','naive_bayes_')+str(i)+\".csv\",index=False)\n",
    "    \n",
    "    #decision tree\n",
    "    decision_tree = DecisionTreeClassifier().fit(x,y)\n",
    "    preds = decision_tree.predict(x_test)\n",
    "    sub = pd.DataFrame({\"PassengerId\":testing_passenger_ids,\"Survived\":preds})\n",
    "    sub.to_csv(os.path.join('..','data','Kaggle Submissions','decision_tree_')+str(i)+\".csv\",index=False)\n",
    "    \n",
    "    #logistic regression\n",
    "    logistic_reg = LogisticRegression(max_iter=500).fit(x,y)\n",
    "    preds = logistic_reg.predict(x_test)\n",
    "    sub = pd.DataFrame({\"PassengerId\":testing_passenger_ids,\"Survived\":preds})\n",
    "    sub.to_csv(os.path.join('..','data','Kaggle Submissions','logistic_reg_')+str(i)+\".csv\",index=False)\n",
    "    \n",
    "    i = i+1\n",
    "    print(\"done\")"
   ]
  },
  {
   "cell_type": "code",
   "execution_count": null,
   "metadata": {},
   "outputs": [],
   "source": [
    "scores = [0.69856,0.76555,0.75358,0.67703,0.76076,0.69856,0.77272,0.75119,0.69856,0.76315,0.74162,0.76555,0.75358,0.72727,0.75837]"
   ]
  },
  {
   "cell_type": "code",
   "execution_count": null,
   "metadata": {},
   "outputs": [],
   "source": [
    "l = []\n",
    "for i in range(len(scores)):   \n",
    "    temp = []\n",
    "    if i < 5:\n",
    "         temp.append(1)\n",
    "    elif i > 4 and i < 10:\n",
    "        temp.append(2)\n",
    "    elif i > 9 and 1 < 15:\n",
    "        temp.append(3)\n",
    "        \n",
    "    if i % 5 == 0:\n",
    "        temp.append(\"Random Forest\")\n",
    "    elif i % 5 == 1:\n",
    "        temp.append(\"SVM\")\n",
    "    elif i % 5 == 2:\n",
    "        temp.append(\"Naive Bayes\")\n",
    "    elif i % 5 == 3:\n",
    "        temp.append(\"Decision Tree\")\n",
    "    elif i % 5 == 4:\n",
    "        temp.append(\"Logistic Regression\")\n",
    "        \n",
    "    temp.append(scores[i])\n",
    "    \n",
    "    l.append(temp)"
   ]
  },
  {
   "cell_type": "code",
   "execution_count": null,
   "metadata": {},
   "outputs": [],
   "source": [
    "df = pd.DataFrame(l, columns=['Dataset', 'Model', 'Accuracy'])"
   ]
  },
  {
   "cell_type": "code",
   "execution_count": null,
   "metadata": {},
   "outputs": [],
   "source": [
    "df"
   ]
  },
  {
   "cell_type": "code",
   "execution_count": null,
   "metadata": {},
   "outputs": [],
   "source": [
    "df.to_csv(os.path.join('..','data','Scores','kaggleDatasetResults.csv'), index=False)"
   ]
  }
 ],
 "metadata": {
  "kernelspec": {
   "display_name": "Python 3",
   "language": "python",
   "name": "python3"
  },
  "language_info": {
   "codemirror_mode": {
    "name": "ipython",
    "version": 3
   },
   "file_extension": ".py",
   "mimetype": "text/x-python",
   "name": "python",
   "nbconvert_exporter": "python",
   "pygments_lexer": "ipython3",
   "version": "3.7.11"
  }
 },
 "nbformat": 4,
 "nbformat_minor": 4
}
