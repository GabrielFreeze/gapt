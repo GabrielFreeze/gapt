{
 "cells": [
  {
   "cell_type": "markdown",
   "id": "c2997f94",
   "metadata": {},
   "source": [
    "# Initial testing of machine learning algorithms"
   ]
  },
  {
   "cell_type": "markdown",
   "id": "8cfca1e1",
   "metadata": {},
   "source": [
    "Splitting the dataframe into a training and testing set to train several machine learning and check which one has the highest accuracy"
   ]
  },
  {
   "cell_type": "code",
   "execution_count": null,
   "id": "7bfe13f6",
   "metadata": {},
   "outputs": [],
   "source": [
    "#Imports\n",
    "\n",
    "import pandas as pd\n",
    "from sklearn import linear_model\n",
    "from sklearn.neighbors import KNeighborsClassifier\n",
    "from sklearn.ensemble import RandomForestClassifier\n",
    "from sklearn.model_selection import train_test_split"
   ]
  },
  {
   "cell_type": "code",
   "execution_count": 27,
   "id": "ce16925c",
   "metadata": {},
   "outputs": [
    {
     "name": "stdout",
     "output_type": "stream",
     "text": [
      "No. of training examples: 981\n",
      "No. of testing examples: 327\n"
     ]
    }
   ],
   "source": [
    "complete_df = pd.read_csv(os.path.join('..','..','data',\"titanic.csv\"))\n",
    "\n",
    "train_df, test_df = train_test_split(complete_df, test_size=0.25, random_state=25)\n",
    "print(f\"No. of training examples: {train_df.shape[0]}\")\n",
    "print(f\"No. of testing examples: {test_df.shape[0]}\")"
   ]
  },
  {
   "cell_type": "code",
   "execution_count": 28,
   "id": "20477d5e",
   "metadata": {},
   "outputs": [],
   "source": [
    "X_train = train_df.drop(\"Survived\", axis=1)\n",
    "Y_train = train_df[\"Survived\"]\n",
    "X_test = test_df.drop(\"Survived\", axis=1)\n",
    "Y_test = test_df[\"Survived\"]"
   ]
  },
  {
   "cell_type": "markdown",
   "id": "010243ae",
   "metadata": {},
   "source": [
    "Testing accuracy of the SGD Classifier which generates the worst accuracy from all of the algorithms. Since a new value is generated every time, 1000 cases were taken and a mean and modal value were displayed to show the average and most common accuracies generated."
   ]
  },
  {
   "cell_type": "code",
   "execution_count": 29,
   "id": "89e6bbb6",
   "metadata": {},
   "outputs": [
    {
     "name": "stdout",
     "output_type": "stream",
     "text": [
      "[75.84, 57.8, 67.58, 66.06, 71.25, 69.11, 66.67, 68.5, 74.92, 69.42, 59.94, 67.28, 69.42, 75.23, 70.64, 62.69, 66.97, 65.75, 69.42, 37.31, 62.69, 69.11, 65.75, 69.42, 63.0, 63.61, 66.67, 43.12, 63.0, 63.3, 68.5, 66.06, 70.03, 69.42, 65.75, 65.75, 40.06, 68.2, 70.03, 63.91, 66.67, 68.81, 37.92, 56.57, 59.63, 65.44, 71.87, 69.42, 68.2, 66.97, 42.2, 69.11, 62.69, 66.36, 64.53, 66.06, 69.11, 62.69, 72.17, 45.87, 43.43, 71.25, 65.14, 66.67, 66.06, 68.5, 70.34, 65.75, 65.44, 37.0, 68.5, 38.23, 66.06, 63.61, 59.02, 37.61, 68.2, 64.22, 69.11, 69.42, 45.87, 63.3, 62.69, 74.62, 59.94, 72.17, 69.42, 68.2, 65.44, 62.39, 74.31, 66.36, 65.14, 62.69, 63.91, 69.72, 71.25, 69.11, 62.69, 70.95, 68.81, 37.92, 69.72, 39.14, 60.86, 37.92, 39.76, 65.75, 67.28, 38.23, 60.24, 64.83, 73.09, 62.08, 63.61, 62.69, 71.87, 61.77, 66.97, 68.5, 37.31, 62.69, 73.39, 62.69, 70.64, 49.85, 65.75, 73.09, 69.42, 60.55, 70.34, 66.36, 56.57, 66.36, 69.72, 66.06, 67.28, 68.81, 68.5, 66.36, 70.64, 62.69, 68.81, 68.81, 70.34, 65.44, 66.67, 67.58, 66.36, 52.6, 66.67, 40.37, 74.01, 62.69, 70.34, 67.89, 66.06, 68.2, 68.5, 68.81, 54.43, 68.2, 66.67, 61.77, 64.83, 71.87, 40.67, 61.47, 67.58, 62.69, 62.69, 63.3, 61.77, 69.42, 41.9, 38.53, 59.94, 68.5, 67.58, 61.16, 70.95, 63.91, 66.97, 44.34, 38.53, 68.5, 61.16, 68.81, 76.45, 73.7, 55.05, 62.69, 69.11, 62.69, 37.31, 40.37, 68.81, 67.58, 58.72, 37.0, 65.44, 62.69, 37.61, 62.69, 66.97, 62.69, 63.91, 68.2, 65.14, 68.81, 60.86, 69.11, 68.81, 67.58, 67.28, 66.06, 40.67, 62.69, 66.67, 68.2, 66.97, 66.06, 74.31, 62.69, 62.69, 39.14, 62.69, 61.77, 51.38, 40.67, 66.67, 69.42, 61.77, 62.69, 37.92, 43.43, 63.3, 64.83, 68.81, 69.42, 70.95, 68.2, 75.23, 71.56, 67.28, 74.01, 67.58, 36.7, 38.23, 66.36, 70.03, 69.11, 40.67, 68.81, 64.22, 37.31, 66.36, 71.87, 62.69, 74.92, 37.0, 66.36, 63.91, 40.67, 40.98, 67.58, 68.5, 63.61, 69.11, 62.69, 66.97, 66.67, 40.06, 68.5, 66.97, 72.48, 67.28, 66.97, 65.75, 63.3, 62.69, 66.67, 62.69, 66.06, 68.81, 66.36, 66.97, 67.58, 37.0, 70.34, 65.14, 38.23, 62.69, 44.95, 65.44, 66.36, 67.58, 61.77, 65.14, 70.64, 71.56, 65.44, 67.58, 46.48, 68.5, 70.03, 65.44, 65.75, 37.92, 72.48, 68.2, 74.92, 66.67, 69.11, 62.69, 68.2, 66.06, 69.42, 64.53, 68.81, 70.03, 66.67, 68.5, 41.28, 68.5, 65.75, 69.11, 69.11, 70.03, 62.69, 62.69, 64.53, 67.58, 66.36, 66.36, 64.53, 65.44, 65.75, 70.03, 62.69, 43.73, 66.67, 39.76, 71.25, 69.42, 62.69, 67.28, 64.53, 37.0, 66.67, 62.69, 62.69, 69.72, 62.69, 69.72, 40.67, 66.97, 37.0, 37.0, 62.69, 69.72, 70.64, 37.31, 67.28, 69.11, 66.97, 70.64, 69.11, 66.06, 62.69, 66.06, 42.51, 62.69, 64.83, 53.82, 68.5, 66.97, 38.53, 62.69, 70.03, 70.03, 62.69, 37.92, 71.25, 70.34, 63.3, 67.28, 65.75, 68.81, 66.97, 70.03, 68.2, 37.31, 70.64, 67.58, 67.89, 70.64, 37.31, 68.2, 41.9, 69.42, 43.12, 64.22, 67.28, 67.28, 66.97, 69.72, 59.94, 41.28, 71.56, 66.36, 69.42, 41.59, 59.33, 48.01, 38.84, 62.69, 62.69, 64.22, 38.84, 67.28, 66.06, 64.22, 48.32, 68.5, 67.89, 67.58, 72.17, 63.61, 68.5, 64.53, 40.06, 76.15, 67.58, 72.78, 67.28, 66.36, 65.75, 69.11, 69.11, 37.92, 62.69, 67.28, 66.36, 66.06, 68.5, 38.23, 71.25, 72.48, 63.91, 66.67, 71.25, 68.5, 66.67, 69.72, 65.14, 68.81, 37.31, 68.2, 69.72, 59.63, 67.89, 68.81, 65.44, 69.11, 64.83, 49.85, 71.56, 68.5, 46.79, 43.73, 70.95, 62.69, 65.75, 62.69, 68.2, 62.69, 66.67, 64.22, 69.42, 70.64, 62.39, 67.58, 68.2, 63.0, 66.67, 70.34, 58.1, 62.69, 41.9, 37.61, 69.11, 66.97, 62.69, 54.74, 59.33, 68.81, 62.69, 68.5, 62.69, 68.81, 62.39, 72.48, 40.98, 60.55, 54.13, 37.0, 68.2, 50.15, 67.58, 67.28, 68.81, 62.08, 71.87, 65.75, 68.81, 62.69, 37.61, 68.81, 37.0, 69.11, 66.67, 61.77, 66.67, 60.24, 62.69, 65.44, 68.81, 64.53, 61.47, 68.5, 37.61, 48.01, 70.95, 68.2, 68.81, 67.58, 62.69, 61.47, 40.06, 66.06, 69.42, 64.83, 67.58, 41.59, 62.69, 62.69, 72.78, 37.0, 39.76, 69.11, 62.69, 67.28, 37.0, 64.83, 62.69, 73.39, 38.53, 62.69, 37.0, 63.61, 69.11, 46.79, 66.06, 67.58, 72.78, 66.67, 64.22, 65.44, 68.2, 62.69, 69.42, 66.36, 66.67, 68.5, 38.23, 63.91, 63.3, 63.61, 65.75, 66.67, 72.48, 67.58, 69.72, 62.08, 72.78, 66.67, 62.69, 65.14, 47.4, 63.61, 62.69, 41.9, 37.92, 63.3, 67.58, 42.2, 64.53, 66.06, 38.23, 70.64, 40.37, 66.67, 62.69, 62.69, 62.69, 69.72, 69.11, 65.44, 66.67, 66.36, 67.89, 69.11, 68.81, 68.5, 63.0, 64.83, 63.3, 61.47, 66.67, 69.11, 66.97, 70.34, 64.53, 41.9, 43.12, 54.74, 66.67, 63.0, 69.11, 69.42, 66.97, 42.51, 38.23, 62.69, 56.27, 68.5, 46.79, 63.0, 69.42, 67.28, 64.83, 41.9, 70.64, 43.12, 62.69, 68.5, 60.86, 73.39, 67.89, 64.53, 69.72, 68.5, 68.2, 69.11, 69.72, 37.31, 39.76, 66.36, 73.39, 70.03, 37.31, 70.34, 66.06, 60.86, 76.45, 62.69, 70.64, 67.28, 63.3, 73.39, 62.69, 66.36, 70.95, 70.34, 65.75, 63.61, 63.3, 66.97, 65.44, 63.61, 65.44, 68.5, 37.31, 73.7, 65.75, 68.2, 63.91, 66.36, 39.45, 43.43, 55.05, 62.69, 74.01, 73.39, 66.36, 66.67, 66.67, 69.11, 63.3, 70.95, 64.22, 37.31, 67.89, 50.15, 69.42, 63.61, 62.69, 66.36, 64.83, 37.31, 68.81, 62.69, 37.0, 65.14, 66.06, 67.58, 67.58, 68.5, 62.69, 66.67, 66.36, 68.81, 62.69, 70.03, 62.69, 66.97, 69.11, 69.11, 68.2, 73.7, 40.37, 41.28, 66.67, 43.73, 68.5, 65.75, 69.11, 75.54, 63.61, 70.03, 68.81, 66.97, 72.48, 72.78, 62.69, 62.08, 68.81, 56.57, 62.69, 65.44, 66.67, 71.56, 68.5, 62.08, 44.65, 40.67, 63.91, 37.0, 68.5, 69.11, 69.42, 74.92, 67.89, 66.06, 62.69, 63.91, 65.44, 62.69, 38.84, 66.06, 67.58, 64.22, 62.69, 74.31, 66.97, 63.3, 61.47, 71.87, 74.01, 40.37, 73.7, 62.69, 69.42, 73.7, 65.75, 62.69, 69.72, 74.01, 70.64, 43.73, 74.92, 46.79, 39.76, 66.36, 69.42, 66.97, 55.66, 66.97, 69.42, 40.98, 68.81, 58.41, 70.03, 66.06, 66.67, 41.28, 42.81, 68.81, 66.97, 69.11, 66.36, 48.62, 62.69, 69.42, 69.11, 65.75, 62.39, 66.97, 67.89, 37.31, 68.81, 67.58, 37.0, 42.2, 66.97, 68.81, 66.06, 73.39, 69.42, 67.89, 72.17, 66.06, 72.78, 38.23, 37.0, 73.7, 38.23, 49.54, 68.81, 48.93, 62.69, 69.42, 63.0, 37.31, 65.75, 44.04, 66.36, 60.24, 67.89, 69.42, 64.22, 63.61, 63.61, 69.42, 67.28, 62.69, 44.95, 57.8, 47.71, 68.81, 63.91, 63.0, 68.81, 66.06, 56.88, 67.58, 70.03, 38.23, 70.64, 71.56, 67.28, 62.69, 68.2, 67.58, 62.69, 67.89, 67.89, 37.0, 66.67, 66.97, 60.55, 69.11, 69.42, 62.69, 63.0, 62.69, 67.58, 67.58, 69.11, 68.2, 67.89, 65.14, 69.11, 69.72, 67.28, 67.58, 70.03, 64.53, 53.82, 66.97, 68.2, 69.11, 68.5, 56.27, 71.87, 70.95, 68.81, 69.42, 62.69, 61.16, 69.11, 37.0, 69.11, 68.81, 37.31, 66.67, 66.06, 62.69, 65.14, 73.09, 63.61, 74.92, 62.69, 63.0, 37.31, 69.42, 63.3, 58.41, 66.06, 63.0, 63.0, 75.84, 37.0, 69.11, 64.83, 65.44, 37.31, 66.67, 39.45, 37.31, 65.44, 66.36, 66.36, 68.5, 69.11, 62.08, 62.69, 63.0, 72.78, 62.69, 39.45, 65.44, 49.85, 69.72, 64.22, 55.66, 67.89, 37.31, 37.0, 67.58, 68.81, 62.69, 68.81, 66.36, 63.91, 66.36, 37.0, 62.69, 73.39, 65.75, 65.44, 37.31, 68.81, 70.34, 62.69, 63.91, 70.03, 64.53, 64.53, 64.53, 37.0, 66.67, 39.14, 57.49, 50.15, 66.67, 65.75, 38.23, 62.69, 38.84, 71.56, 66.97, 67.89, 66.06, 62.69, 66.06, 39.14, 73.39, 62.69]\n"
     ]
    }
   ],
   "source": [
    "sgda =[]\n",
    "i = 0\n",
    "while i < 1000:\n",
    "    #possible solution is to run it multiple times and find the average\n",
    "    sgd = linear_model.SGDClassifier(max_iter=5, tol=None)\n",
    "    sgd.fit(X_train, Y_train)\n",
    "\n",
    "    sgd.score(X_train, Y_train)\n",
    "    sgda.append(round(sgd.score(X_test, Y_test) * 100, 2))\n",
    "    i += 1\n",
    "    \n",
    "print(sgda)"
   ]
  },
  {
   "cell_type": "code",
   "execution_count": 30,
   "id": "5b304500",
   "metadata": {},
   "outputs": [
    {
     "name": "stdout",
     "output_type": "stream",
     "text": [
      "Mean value:  62.34974\n",
      "Mode value:  62.69\n"
     ]
    }
   ],
   "source": [
    "import statistics\n",
    "print(\"Mean value: \",statistics.mean(sgda))\n",
    "print(\"Mode value: \",statistics.mode(sgda))"
   ]
  },
  {
   "cell_type": "markdown",
   "id": "2958b443",
   "metadata": {},
   "source": [
    "This graph depicts how many times an accuracy value was generated form the algorithm"
   ]
  },
  {
   "cell_type": "code",
   "execution_count": 31,
   "id": "3e8953ee",
   "metadata": {},
   "outputs": [
    {
     "data": {
      "text/plain": [
       "Text(0, 0.5, 'Count')"
      ]
     },
     "execution_count": 31,
     "metadata": {},
     "output_type": "execute_result"
    },
    {
     "data": {
      "image/png": "[encoded data removed]",
      "text/plain": [
       "<Figure size 432x288 with 1 Axes>"
      ]
     },
     "metadata": {
      "needs_background": "light"
     },
     "output_type": "display_data"
    }
   ],
   "source": [
    "sns.histplot(sgda, stat=\"count\", multiple=\"stack\",\n",
    "             kde=False,\n",
    "             element=\"bars\", legend=True)\n",
    "plt.title(\"Model accuracy count\")\n",
    "plt.xlabel(\"Accuracy\")\n",
    "plt.ylabel(\"Count\")"
   ]
  },
  {
   "cell_type": "markdown",
   "id": "5f08eead",
   "metadata": {},
   "source": [
    "Testing accuracy of the KNN Classifier which generates the second best accuracy from all of the algorithms with 13 neighbours providing the highest accuracy"
   ]
  },
  {
   "cell_type": "code",
   "execution_count": 32,
   "id": "274b6360",
   "metadata": {},
   "outputs": [
    {
     "name": "stdout",
     "output_type": "stream",
     "text": [
      "70.03\n"
     ]
    }
   ],
   "source": [
    "knn = KNeighborsClassifier(n_neighbors = 13) \n",
    "knn.fit(X_train, Y_train)  \n",
    "knnR = round(knn.score(X_test, Y_test) * 100, 2)\n",
    "print(knnR)"
   ]
  },
  {
   "cell_type": "markdown",
   "id": "e4bf2d68",
   "metadata": {},
   "source": [
    "Testing accuracy of the Random Forest Classifier which generates the highest accuracy from all of the algorithms"
   ]
  },
  {
   "cell_type": "code",
   "execution_count": 33,
   "id": "e57ad9b7",
   "metadata": {},
   "outputs": [
    {
     "name": "stdout",
     "output_type": "stream",
     "text": [
      "95.62\n"
     ]
    }
   ],
   "source": [
    "random_forest = RandomForestClassifier(n_estimators=100)\n",
    "random_forest.fit(X_train, Y_train)\n",
    "\n",
    "random_forest.score(X_test, Y_test)\n",
    "acc_random_forest = round(random_forest.score(X_train, Y_train) * 100, 2)\n",
    "\n",
    "print(acc_random_forest)"
   ]
  },
  {
   "cell_type": "markdown",
   "id": "d046422e",
   "metadata": {},
   "source": [
    "Sources: https://towardsdatascience.com/predicting-the-survival-of-titanic-passengers-30870ccc7e8\n",
    "         https://www.kaggle.com/code/allohvk/titanic-missing-age-imputation-tutorial-advanced/notebook"
   ]
  }
 ],
 "metadata": {
  "kernelspec": {
   "display_name": "gapt-venv",
   "language": "python",
   "name": "gapt-venv"
  },
  "language_info": {
   "codemirror_mode": {
    "name": "ipython",
    "version": 3
   },
   "file_extension": ".py",
   "mimetype": "text/x-python",
   "name": "python",
   "nbconvert_exporter": "python",
   "pygments_lexer": "ipython3",
   "version": "3.7.11"
  }
 },
 "nbformat": 4,
 "nbformat_minor": 5
}
